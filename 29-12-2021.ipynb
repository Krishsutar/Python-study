{
 "cells": [
  {
   "cell_type": "code",
   "execution_count": 1,
   "id": "b88dce17",
   "metadata": {},
   "outputs": [],
   "source": [
    "l = [ \"krish\", 1,5,8]"
   ]
  },
  {
   "cell_type": "code",
   "execution_count": 2,
   "id": "d60a21f4",
   "metadata": {},
   "outputs": [
    {
     "data": {
      "text/plain": [
       "['krish', 1, 5, 8]"
      ]
     },
     "execution_count": 2,
     "metadata": {},
     "output_type": "execute_result"
    }
   ],
   "source": [
    "l"
   ]
  },
  {
   "cell_type": "code",
   "execution_count": 3,
   "id": "0ce12213",
   "metadata": {},
   "outputs": [
    {
     "name": "stdout",
     "output_type": "stream",
     "text": [
      "[]\n",
      "[]\n",
      "[]\n",
      "[]\n",
      "[]\n"
     ]
    }
   ],
   "source": [
    "for i in l:\n",
    "    if type(i) == str:\n",
    "        l1 = []\n",
    "        for j in i :\n",
    "            print(l1)"
   ]
  },
  {
   "cell_type": "code",
   "execution_count": 4,
   "id": "b85eacde",
   "metadata": {},
   "outputs": [
    {
     "data": {
      "text/plain": [
       "range(0, 5)"
      ]
     },
     "execution_count": 4,
     "metadata": {},
     "output_type": "execute_result"
    }
   ],
   "source": [
    "range(5)"
   ]
  },
  {
   "cell_type": "code",
   "execution_count": 5,
   "id": "8f886278",
   "metadata": {},
   "outputs": [
    {
     "data": {
      "text/plain": [
       "range(0, 5)"
      ]
     },
     "execution_count": 5,
     "metadata": {},
     "output_type": "execute_result"
    }
   ],
   "source": [
    "range(0, 5)"
   ]
  },
  {
   "cell_type": "code",
   "execution_count": 10,
   "id": "6e640102",
   "metadata": {},
   "outputs": [
    {
     "name": "stdout",
     "output_type": "stream",
     "text": [
      "sudh \n",
      "\n",
      "sudh sudh \n",
      "\n"
     ]
    }
   ],
   "source": [
    "n = 2 \n",
    "for i in range(0,n) : \n",
    "    for j in range(0,i+1):\n",
    "        print(\"sudh \" , end = \"\")\n",
    "    print(\"\\n\")"
   ]
  },
  {
   "cell_type": "code",
   "execution_count": 16,
   "id": "99e11638",
   "metadata": {},
   "outputs": [
    {
     "name": "stdout",
     "output_type": "stream",
     "text": [
      "1\n"
     ]
    }
   ],
   "source": [
    "a = 1\n",
    "if a < 6:\n",
    "    print(a)\n",
    "    a = a+1\n",
    "    "
   ]
  },
  {
   "cell_type": "code",
   "execution_count": 14,
   "id": "582fe713",
   "metadata": {},
   "outputs": [
    {
     "name": "stdout",
     "output_type": "stream",
     "text": [
      "1\n",
      "2\n",
      "3\n",
      "4\n",
      "5\n"
     ]
    }
   ],
   "source": [
    "a = 1\n",
    "while a < 6:\n",
    "    print(a)\n",
    "    a = a+1"
   ]
  },
  {
   "cell_type": "code",
   "execution_count": null,
   "id": "b922d3bf",
   "metadata": {},
   "outputs": [],
   "source": []
  }
 ],
 "metadata": {
  "kernelspec": {
   "display_name": "Python 3 (ipykernel)",
   "language": "python",
   "name": "python3"
  },
  "language_info": {
   "codemirror_mode": {
    "name": "ipython",
    "version": 3
   },
   "file_extension": ".py",
   "mimetype": "text/x-python",
   "name": "python",
   "nbconvert_exporter": "python",
   "pygments_lexer": "ipython3",
   "version": "3.9.7"
  }
 },
 "nbformat": 4,
 "nbformat_minor": 5
}

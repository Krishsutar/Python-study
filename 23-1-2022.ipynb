{
 "cells": [
  {
   "cell_type": "code",
   "execution_count": 32,
   "id": "467c22ed",
   "metadata": {},
   "outputs": [],
   "source": [
    "class car:\n",
    "    def __init__(self, body_type, engine, fuel_type):\n",
    "        self.body_type = body_type\n",
    "        self.engine = engine\n",
    "        self.fuel_type = fuel_type\n",
    "        \n",
    "    def test(self):\n",
    "        print(\"this is my first method in my car class\")"
   ]
  },
  {
   "cell_type": "code",
   "execution_count": 6,
   "id": "51caedca",
   "metadata": {},
   "outputs": [],
   "source": [
    "fortuner = car(\"suv\", \"BS4\", \"petrol\")"
   ]
  },
  {
   "cell_type": "code",
   "execution_count": 9,
   "id": "74980fb1",
   "metadata": {},
   "outputs": [],
   "source": [
    "nexon = car(\"suv\", \"sak\", \"EV\")"
   ]
  },
  {
   "cell_type": "code",
   "execution_count": 34,
   "id": "1321384d",
   "metadata": {},
   "outputs": [
    {
     "data": {
      "text/plain": [
       "'suv'"
      ]
     },
     "execution_count": 34,
     "metadata": {},
     "output_type": "execute_result"
    }
   ],
   "source": [
    "fortuner.body_type"
   ]
  },
  {
   "cell_type": "code",
   "execution_count": 18,
   "id": "1a535c47",
   "metadata": {},
   "outputs": [
    {
     "data": {
      "text/plain": [
       "'sak'"
      ]
     },
     "execution_count": 18,
     "metadata": {},
     "output_type": "execute_result"
    }
   ],
   "source": [
    "nexon.engine"
   ]
  },
  {
   "cell_type": "code",
   "execution_count": 39,
   "id": "e15554dd",
   "metadata": {},
   "outputs": [
    {
     "name": "stdout",
     "output_type": "stream",
     "text": [
      "this is my first method in my car class\n"
     ]
    }
   ],
   "source": [
    "fortuner.test()"
   ]
  },
  {
   "cell_type": "code",
   "execution_count": 26,
   "id": "e48530c4",
   "metadata": {},
   "outputs": [],
   "source": [
    "class car:\n",
    "    def __init__(self, a, engine, fuel_type):\n",
    "        self.body_type = b\n",
    "        self.engine = engine\n",
    "        self.fuel_type = fuel_type\n",
    "        \n",
    "    def test(self):\n",
    "        print(\"this is my first method in my car class\")"
   ]
  },
  {
   "cell_type": "code",
   "execution_count": 29,
   "id": "deeb668e",
   "metadata": {},
   "outputs": [
    {
     "data": {
      "text/plain": [
       "'suv'"
      ]
     },
     "execution_count": 29,
     "metadata": {},
     "output_type": "execute_result"
    }
   ],
   "source": [
    "fortuner.body_type"
   ]
  },
  {
   "cell_type": "code",
   "execution_count": 40,
   "id": "0cdd9f45",
   "metadata": {},
   "outputs": [],
   "source": [
    "class car:\n",
    "    def test(self, a, b):\n",
    "        print(\"this is my first method in my car class\")"
   ]
  },
  {
   "cell_type": "code",
   "execution_count": 41,
   "id": "8d526f77",
   "metadata": {},
   "outputs": [],
   "source": [
    "x = car()"
   ]
  },
  {
   "cell_type": "code",
   "execution_count": 46,
   "id": "dc779338",
   "metadata": {},
   "outputs": [
    {
     "name": "stdout",
     "output_type": "stream",
     "text": [
      "<class '__main__.car'>\n"
     ]
    }
   ],
   "source": [
    "print(type(x))"
   ]
  },
  {
   "cell_type": "code",
   "execution_count": 45,
   "id": "c69fdff9",
   "metadata": {},
   "outputs": [
    {
     "name": "stdout",
     "output_type": "stream",
     "text": [
      "this is my first method in my car class\n"
     ]
    }
   ],
   "source": [
    "x.test(\"tata\", \"suzuki\",)"
   ]
  },
  {
   "cell_type": "code",
   "execution_count": 73,
   "id": "785611a5",
   "metadata": {},
   "outputs": [],
   "source": [
    "class list_parser :\n",
    "    def __init__(self, l) :\n",
    "        self.l = l\n",
    "        \n",
    "    \n",
    "    def parser(self):\n",
    "        if type(self.l) == list :\n",
    "            for i in self.l :\n",
    "                print(i)\n",
    "                \n",
    "    def reverser_list(self):\n",
    "        if type(self.l) == list :\n",
    "            return self.l[::-1]"
   ]
  },
  {
   "cell_type": "code",
   "execution_count": 74,
   "id": "c91e8f5d",
   "metadata": {},
   "outputs": [],
   "source": [
    "c = list_parser([1,25,3,5,6,5])\n"
   ]
  },
  {
   "cell_type": "code",
   "execution_count": 75,
   "id": "445f69c1",
   "metadata": {},
   "outputs": [
    {
     "name": "stdout",
     "output_type": "stream",
     "text": [
      "1\n",
      "25\n",
      "3\n",
      "5\n",
      "6\n",
      "5\n"
     ]
    }
   ],
   "source": [
    "c.parser()"
   ]
  },
  {
   "cell_type": "code",
   "execution_count": 76,
   "id": "f310e81e",
   "metadata": {},
   "outputs": [
    {
     "data": {
      "text/plain": [
       "[5, 6, 5, 3, 25, 1]"
      ]
     },
     "execution_count": 76,
     "metadata": {},
     "output_type": "execute_result"
    }
   ],
   "source": [
    "c.reverser_list()"
   ]
  },
  {
   "cell_type": "code",
   "execution_count": 77,
   "id": "0f0a32eb",
   "metadata": {},
   "outputs": [],
   "source": [
    "f = [1,2,3,4,5,6,7]"
   ]
  },
  {
   "cell_type": "code",
   "execution_count": 83,
   "id": "e6bc3d55",
   "metadata": {},
   "outputs": [
    {
     "name": "stdout",
     "output_type": "stream",
     "text": [
      "[7, 6, 5, 4, 3, 2, 1]\n"
     ]
    }
   ],
   "source": [
    "f.reverse()\n",
    "print(f)"
   ]
  },
  {
   "cell_type": "code",
   "execution_count": 82,
   "id": "61aebdbb",
   "metadata": {},
   "outputs": [
    {
     "data": {
      "text/plain": [
       "[1, 2, 3, 4, 5, 6, 7]"
      ]
     },
     "execution_count": 82,
     "metadata": {},
     "output_type": "execute_result"
    }
   ],
   "source": [
    "f"
   ]
  },
  {
   "cell_type": "code",
   "execution_count": 11,
   "id": "3bf92ccf",
   "metadata": {},
   "outputs": [],
   "source": [
    "class disc_parser :\n",
    "    \n",
    "    def __init__(self, l) :\n",
    "        self.l = a\n",
    "        \n",
    "    def parser(self):\n",
    "        if type(self.l) == dict:\n",
    "            for i in self.l:\n",
    "                print(i)"
   ]
  },
  {
   "cell_type": "code",
   "execution_count": 13,
   "id": "68b53d79",
   "metadata": {},
   "outputs": [
    {
     "name": "stdout",
     "output_type": "stream",
     "text": [
      "{\"a\" : \"Hi\", \"b\" : \"Bye\"}\n"
     ]
    },
    {
     "ename": "ValueError",
     "evalue": "dictionary update sequence element #0 has length 1; 2 is required",
     "output_type": "error",
     "traceback": [
      "\u001b[1;31m---------------------------------------------------------------------------\u001b[0m",
      "\u001b[1;31mValueError\u001b[0m                                Traceback (most recent call last)",
      "\u001b[1;32m~\\AppData\\Local\\Temp/ipykernel_1800/3482155581.py\u001b[0m in \u001b[0;36m<module>\u001b[1;34m\u001b[0m\n\u001b[1;32m----> 1\u001b[1;33m \u001b[0mc\u001b[0m \u001b[1;33m=\u001b[0m \u001b[0mdisc_parser\u001b[0m\u001b[1;33m(\u001b[0m\u001b[1;36m56\u001b[0m\u001b[1;33m)\u001b[0m\u001b[1;33m\u001b[0m\u001b[1;33m\u001b[0m\u001b[0m\n\u001b[0m",
      "\u001b[1;32m~\\AppData\\Local\\Temp/ipykernel_1800/1508194476.py\u001b[0m in \u001b[0;36m__init__\u001b[1;34m(self, l)\u001b[0m\n\u001b[0;32m      1\u001b[0m \u001b[1;32mclass\u001b[0m \u001b[0mdisc_parser\u001b[0m \u001b[1;33m:\u001b[0m\u001b[1;33m\u001b[0m\u001b[1;33m\u001b[0m\u001b[0m\n\u001b[0;32m      2\u001b[0m     \u001b[1;32mdef\u001b[0m \u001b[0m__init__\u001b[0m\u001b[1;33m(\u001b[0m\u001b[0mself\u001b[0m\u001b[1;33m,\u001b[0m \u001b[0ml\u001b[0m\u001b[1;33m)\u001b[0m \u001b[1;33m:\u001b[0m\u001b[1;33m\u001b[0m\u001b[1;33m\u001b[0m\u001b[0m\n\u001b[1;32m----> 3\u001b[1;33m         \u001b[0mself\u001b[0m\u001b[1;33m.\u001b[0m\u001b[0ml\u001b[0m \u001b[1;33m=\u001b[0m \u001b[0mdict\u001b[0m\u001b[1;33m(\u001b[0m\u001b[0minput\u001b[0m\u001b[1;33m(\u001b[0m\u001b[1;33m)\u001b[0m\u001b[1;33m)\u001b[0m\u001b[1;33m\u001b[0m\u001b[1;33m\u001b[0m\u001b[0m\n\u001b[0m\u001b[0;32m      4\u001b[0m \u001b[1;33m\u001b[0m\u001b[0m\n\u001b[0;32m      5\u001b[0m     \u001b[1;32mdef\u001b[0m \u001b[0mparser\u001b[0m\u001b[1;33m(\u001b[0m\u001b[0mself\u001b[0m\u001b[1;33m)\u001b[0m\u001b[1;33m:\u001b[0m\u001b[1;33m\u001b[0m\u001b[1;33m\u001b[0m\u001b[0m\n",
      "\u001b[1;31mValueError\u001b[0m: dictionary update sequence element #0 has length 1; 2 is required"
     ]
    }
   ],
   "source": [
    "c = disc_parser(56)"
   ]
  },
  {
   "cell_type": "code",
   "execution_count": 15,
   "id": "7950291e",
   "metadata": {},
   "outputs": [
    {
     "name": "stdout",
     "output_type": "stream",
     "text": [
      " Volume in drive C has no label.\n",
      " Volume Serial Number is 2A42-65FC\n",
      "\n",
      " Directory of C:\\Users\\hp\n",
      "\n",
      "01/23/2022  11:58 AM    <DIR>          .\n",
      "01/23/2022  11:58 AM    <DIR>          ..\n",
      "01/02/2020  10:46 PM    <DIR>          .cache\n",
      "01/22/2022  11:41 AM    <DIR>          .conda\n",
      "11/28/2021  01:33 PM                25 .condarc\n",
      "11/28/2021  01:33 PM    <DIR>          .continuum\n",
      "01/23/2022  10:14 AM    <DIR>          .ipynb_checkpoints\n",
      "12/04/2021  10:39 AM    <DIR>          .ipython\n",
      "12/04/2021  12:33 PM    <DIR>          .jupyter\n",
      "01/22/2022  11:10 AM    <DIR>          __pycache__\n",
      "01/16/2022  01:18 PM            38,836 15-1-2022 (exceptional handling).ipynb\n",
      "12/23/2021  07:16 PM            14,347 21-12-2021.ipynb\n",
      "01/22/2022  11:25 AM            14,778 22-1-2022.ipynb\n",
      "04/10/2021  12:06 AM    <DIR>          3D Objects\n",
      "01/08/2022  12:57 PM            29,862 8-1-2022.ipynb\n",
      "01/09/2022  01:04 PM           245,981 9-1-2022 generator.ipynb\n",
      "12/25/2021  12:24 PM    <DIR>          anaconda3\n",
      "01/03/2022  10:52 PM             2,965 Assigment-2.ipynb\n",
      "04/10/2021  12:06 AM    <DIR>          Contacts\n",
      "01/15/2022  11:10 AM    <DIR>          Desktop\n",
      "11/28/2021  01:16 PM    <DIR>          Documents\n",
      "01/22/2022  12:18 PM    <DIR>          Downloads\n",
      "04/10/2021  12:06 AM    <DIR>          Favorites\n",
      "01/09/2022  12:47 PM             3,744 google.txt\n",
      "04/10/2021  12:06 AM    <DIR>          Links\n",
      "04/10/2021  12:06 AM    <DIR>          Music\n",
      "01/22/2022  11:10 AM    <DIR>          my project\n",
      "01/22/2022  11:08 AM               232 my_module.py\n",
      "05/16/2021  10:56 AM    <DIR>          OneDrive\n",
      "01/22/2022  12:55 PM             4,245 OOP object oriented programing.ipynb\n",
      "09/14/2020  09:24 PM    <DIR>          opera autoupdate\n",
      "04/10/2021  12:06 AM    <DIR>          Pictures\n",
      "12/12/2021  11:56 AM            15,307 Practice 12-12-2021.ipynb\n",
      "12/12/2021  10:41 AM            20,735 Python Basic 4th Dec.ipynb\n",
      "12/12/2021  11:34 AM            57,587 Python Basic 5th Dec.ipynb\n",
      "12/29/2021  09:58 PM            21,196 Python Control flow(if, while) 19-12-2021.ipynb\n",
      "12/19/2021  10:12 AM            50,100 Python Tuples, Set, Dict 18-12-2021.ipynb\n",
      "04/10/2021  12:06 AM    <DIR>          Saved Games\n",
      "04/10/2021  12:06 AM    <DIR>          Searches\n",
      "01/15/2022  10:37 AM                13 test.txt\n",
      "01/22/2022  10:43 AM               133 test1.py\n",
      "01/22/2022  11:00 AM                60 test21.py\n",
      "01/15/2022  10:37 AM                13 test5.txt\n",
      "01/16/2022  12:55 PM               886 testX.log\n",
      "01/16/2022  01:10 PM               329 testZ.log\n",
      "11/28/2021  09:57 AM    <DIR>          Tracing\n",
      "12/05/2021  01:22 PM                72 Untitled.ipynb\n",
      "12/29/2021  10:50 PM             3,310 Untitled1.ipynb\n",
      "01/23/2022  11:58 AM             9,391 Untitled2.ipynb\n",
      "01/22/2022  10:22 AM               588 Untitled3.ipynb\n",
      "04/10/2021  12:06 AM    <DIR>          Videos\n",
      "12/21/2021  08:10 PM            17,172 While loop 20-12-2021.ipynb\n",
      "              26 File(s)        551,907 bytes\n",
      "              26 Dir(s)  254,292,631,552 bytes free\n"
     ]
    }
   ],
   "source": [
    "ls"
   ]
  },
  {
   "cell_type": "code",
   "execution_count": null,
   "id": "ec6ce7c7",
   "metadata": {},
   "outputs": [],
   "source": []
  }
 ],
 "metadata": {
  "kernelspec": {
   "display_name": "Python 3 (ipykernel)",
   "language": "python",
   "name": "python3"
  },
  "language_info": {
   "codemirror_mode": {
    "name": "ipython",
    "version": 3
   },
   "file_extension": ".py",
   "mimetype": "text/x-python",
   "name": "python",
   "nbconvert_exporter": "python",
   "pygments_lexer": "ipython3",
   "version": "3.9.7"
  }
 },
 "nbformat": 4,
 "nbformat_minor": 5
}

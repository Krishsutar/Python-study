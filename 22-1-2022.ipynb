{
 "cells": [
  {
   "cell_type": "code",
   "execution_count": 1,
   "id": "41b70b79",
   "metadata": {},
   "outputs": [],
   "source": [
    "import os"
   ]
  },
  {
   "cell_type": "code",
   "execution_count": 2,
   "id": "9c7ffdd0",
   "metadata": {},
   "outputs": [],
   "source": [
    "def test(a,b):\n",
    "    return a+b"
   ]
  },
  {
   "cell_type": "code",
   "execution_count": 3,
   "id": "204e72b1",
   "metadata": {},
   "outputs": [
    {
     "data": {
      "text/plain": [
       "9"
      ]
     },
     "execution_count": 3,
     "metadata": {},
     "output_type": "execute_result"
    }
   ],
   "source": [
    "test(4,5)"
   ]
  },
  {
   "cell_type": "code",
   "execution_count": null,
   "id": "a03a731f",
   "metadata": {},
   "outputs": [],
   "source": [
    "type()\n",
    "print()\n",
    "len()\n"
   ]
  },
  {
   "cell_type": "code",
   "execution_count": 4,
   "id": "7edbee9b",
   "metadata": {},
   "outputs": [
    {
     "name": "stdout",
     "output_type": "stream",
     "text": [
      " Volume in drive C has no label.\n",
      " Volume Serial Number is 2A42-65FC\n",
      "\n",
      " Directory of C:\\Users\\hp\n",
      "\n",
      "01/22/2022  10:24 AM    <DIR>          .\n",
      "01/22/2022  10:24 AM    <DIR>          ..\n",
      "01/02/2020  10:46 PM    <DIR>          .cache\n",
      "12/05/2021  04:22 PM    <DIR>          .conda\n",
      "11/28/2021  01:33 PM                25 .condarc\n",
      "11/28/2021  01:33 PM    <DIR>          .continuum\n",
      "01/22/2022  10:20 AM    <DIR>          .ipynb_checkpoints\n",
      "12/04/2021  10:39 AM    <DIR>          .ipython\n",
      "12/04/2021  12:33 PM    <DIR>          .jupyter\n",
      "01/16/2022  01:18 PM            38,836 15-1-2022 (exceptional handling).ipynb\n",
      "12/23/2021  07:16 PM            14,347 21-12-2021.ipynb\n",
      "01/22/2022  10:24 AM             1,289 22-1-2022.ipynb\n",
      "04/10/2021  12:06 AM    <DIR>          3D Objects\n",
      "01/08/2022  12:57 PM            29,862 8-1-2022.ipynb\n",
      "01/09/2022  01:04 PM           245,981 9-1-2022 generator.ipynb\n",
      "12/25/2021  12:24 PM    <DIR>          anaconda3\n",
      "01/03/2022  10:52 PM             2,965 Assigment-2.ipynb\n",
      "04/10/2021  12:06 AM    <DIR>          Contacts\n",
      "01/15/2022  11:10 AM    <DIR>          Desktop\n",
      "11/28/2021  01:16 PM    <DIR>          Documents\n",
      "01/08/2022  10:22 AM    <DIR>          Downloads\n",
      "04/10/2021  12:06 AM    <DIR>          Favorites\n",
      "01/09/2022  12:47 PM             3,744 google.txt\n",
      "04/10/2021  12:06 AM    <DIR>          Links\n",
      "04/10/2021  12:06 AM    <DIR>          Music\n",
      "05/16/2021  10:56 AM    <DIR>          OneDrive\n",
      "09/14/2020  09:24 PM    <DIR>          opera autoupdate\n",
      "04/10/2021  12:06 AM    <DIR>          Pictures\n",
      "12/12/2021  11:56 AM            15,307 Practice 12-12-2021.ipynb\n",
      "12/12/2021  10:41 AM            20,735 Python Basic 4th Dec.ipynb\n",
      "12/12/2021  11:34 AM            57,587 Python Basic 5th Dec.ipynb\n",
      "12/29/2021  09:58 PM            21,196 Python Control flow(if, while) 19-12-2021.ipynb\n",
      "12/19/2021  10:12 AM            50,100 Python Tuples, Set, Dict 18-12-2021.ipynb\n",
      "04/10/2021  12:06 AM    <DIR>          Saved Games\n",
      "04/10/2021  12:06 AM    <DIR>          Searches\n",
      "01/15/2022  10:37 AM                13 test.txt\n",
      "01/15/2022  10:37 AM                13 test5.txt\n",
      "01/16/2022  12:55 PM               886 testX.log\n",
      "01/16/2022  01:10 PM               329 testZ.log\n",
      "11/28/2021  09:57 AM    <DIR>          Tracing\n",
      "12/05/2021  01:22 PM                72 Untitled.ipynb\n",
      "12/29/2021  10:50 PM             3,310 Untitled1.ipynb\n",
      "01/22/2022  10:22 AM               588 Untitled3.ipynb\n",
      "04/10/2021  12:06 AM    <DIR>          Videos\n",
      "12/21/2021  08:10 PM            17,172 While loop 20-12-2021.ipynb\n",
      "              21 File(s)        524,357 bytes\n",
      "              24 Dir(s)  252,177,166,336 bytes free\n"
     ]
    }
   ],
   "source": [
    "ls"
   ]
  },
  {
   "cell_type": "code",
   "execution_count": 2,
   "id": "33d1f773",
   "metadata": {},
   "outputs": [
    {
     "data": {
      "text/plain": [
       "<_io.TextIOWrapper name='test21.py' mode='w' encoding='cp1252'>"
      ]
     },
     "execution_count": 2,
     "metadata": {},
     "output_type": "execute_result"
    }
   ],
   "source": [
    "open(\"test21.py\", \"w\")"
   ]
  },
  {
   "cell_type": "code",
   "execution_count": 3,
   "id": "35b96945",
   "metadata": {},
   "outputs": [
    {
     "name": "stdout",
     "output_type": "stream",
     "text": [
      " Volume in drive C has no label.\n",
      " Volume Serial Number is 2A42-65FC\n",
      "\n",
      " Directory of C:\\Users\\hp\n",
      "\n",
      "01/22/2022  10:58 AM    <DIR>          .\n",
      "01/22/2022  10:58 AM    <DIR>          ..\n",
      "01/02/2020  10:46 PM    <DIR>          .cache\n",
      "01/22/2022  10:44 AM    <DIR>          .conda\n",
      "11/28/2021  01:33 PM                25 .condarc\n",
      "11/28/2021  01:33 PM    <DIR>          .continuum\n",
      "01/22/2022  10:20 AM    <DIR>          .ipynb_checkpoints\n",
      "12/04/2021  10:39 AM    <DIR>          .ipython\n",
      "12/04/2021  12:33 PM    <DIR>          .jupyter\n",
      "01/22/2022  10:58 AM    <DIR>          __pycache__\n",
      "01/16/2022  01:18 PM            38,836 15-1-2022 (exceptional handling).ipynb\n",
      "12/23/2021  07:16 PM            14,347 21-12-2021.ipynb\n",
      "01/22/2022  10:58 AM             9,890 22-1-2022.ipynb\n",
      "04/10/2021  12:06 AM    <DIR>          3D Objects\n",
      "01/08/2022  12:57 PM            29,862 8-1-2022.ipynb\n",
      "01/09/2022  01:04 PM           245,981 9-1-2022 generator.ipynb\n",
      "12/25/2021  12:24 PM    <DIR>          anaconda3\n",
      "01/03/2022  10:52 PM             2,965 Assigment-2.ipynb\n",
      "04/10/2021  12:06 AM    <DIR>          Contacts\n",
      "01/15/2022  11:10 AM    <DIR>          Desktop\n",
      "11/28/2021  01:16 PM    <DIR>          Documents\n",
      "01/08/2022  10:22 AM    <DIR>          Downloads\n",
      "04/10/2021  12:06 AM    <DIR>          Favorites\n",
      "01/09/2022  12:47 PM             3,744 google.txt\n",
      "04/10/2021  12:06 AM    <DIR>          Links\n",
      "04/10/2021  12:06 AM    <DIR>          Music\n",
      "05/16/2021  10:56 AM    <DIR>          OneDrive\n",
      "09/14/2020  09:24 PM    <DIR>          opera autoupdate\n",
      "04/10/2021  12:06 AM    <DIR>          Pictures\n",
      "12/12/2021  11:56 AM            15,307 Practice 12-12-2021.ipynb\n",
      "12/12/2021  10:41 AM            20,735 Python Basic 4th Dec.ipynb\n",
      "12/12/2021  11:34 AM            57,587 Python Basic 5th Dec.ipynb\n",
      "12/29/2021  09:58 PM            21,196 Python Control flow(if, while) 19-12-2021.ipynb\n",
      "12/19/2021  10:12 AM            50,100 Python Tuples, Set, Dict 18-12-2021.ipynb\n",
      "04/10/2021  12:06 AM    <DIR>          Saved Games\n",
      "04/10/2021  12:06 AM    <DIR>          Searches\n",
      "01/15/2022  10:37 AM                13 test.txt\n",
      "01/22/2022  10:43 AM               133 test1.py\n",
      "01/22/2022  10:58 AM                 0 test21.py\n",
      "01/15/2022  10:37 AM                13 test5.txt\n",
      "01/16/2022  12:55 PM               886 testX.log\n",
      "01/16/2022  01:10 PM               329 testZ.log\n",
      "11/28/2021  09:57 AM    <DIR>          Tracing\n",
      "12/05/2021  01:22 PM                72 Untitled.ipynb\n",
      "12/29/2021  10:50 PM             3,310 Untitled1.ipynb\n",
      "01/22/2022  10:22 AM               588 Untitled3.ipynb\n",
      "04/10/2021  12:06 AM    <DIR>          Videos\n",
      "12/21/2021  08:10 PM            17,172 While loop 20-12-2021.ipynb\n",
      "              23 File(s)        533,091 bytes\n",
      "              25 Dir(s)  251,428,122,624 bytes free\n"
     ]
    }
   ],
   "source": [
    "ls"
   ]
  },
  {
   "cell_type": "code",
   "execution_count": 1,
   "id": "1ceb3b49",
   "metadata": {},
   "outputs": [],
   "source": [
    "import test21"
   ]
  },
  {
   "cell_type": "code",
   "execution_count": 2,
   "id": "99eea295",
   "metadata": {},
   "outputs": [
    {
     "data": {
      "text/plain": [
       "9"
      ]
     },
     "execution_count": 2,
     "metadata": {},
     "output_type": "execute_result"
    }
   ],
   "source": [
    "test21.test22(4,5)"
   ]
  },
  {
   "cell_type": "code",
   "execution_count": 4,
   "id": "af74fab5",
   "metadata": {},
   "outputs": [
    {
     "data": {
      "text/plain": [
       "72"
      ]
     },
     "execution_count": 4,
     "metadata": {},
     "output_type": "execute_result"
    }
   ],
   "source": [
    "test21.tesr23(8,9)"
   ]
  },
  {
   "cell_type": "code",
   "execution_count": 5,
   "id": "6ccb7b15",
   "metadata": {},
   "outputs": [
    {
     "data": {
      "text/plain": [
       "<_io.TextIOWrapper name='my_module.py' mode='w' encoding='cp1252'>"
      ]
     },
     "execution_count": 5,
     "metadata": {},
     "output_type": "execute_result"
    }
   ],
   "source": [
    "open(\"my_module.py\", \"w\")"
   ]
  },
  {
   "cell_type": "code",
   "execution_count": 6,
   "id": "30d991aa",
   "metadata": {},
   "outputs": [
    {
     "name": "stdout",
     "output_type": "stream",
     "text": [
      " Volume in drive C has no label.\n",
      " Volume Serial Number is 2A42-65FC\n",
      "\n",
      " Directory of C:\\Users\\hp\n",
      "\n",
      "01/22/2022  11:01 AM    <DIR>          .\n",
      "01/22/2022  11:01 AM    <DIR>          ..\n",
      "01/02/2020  10:46 PM    <DIR>          .cache\n",
      "01/22/2022  10:44 AM    <DIR>          .conda\n",
      "11/28/2021  01:33 PM                25 .condarc\n",
      "11/28/2021  01:33 PM    <DIR>          .continuum\n",
      "01/22/2022  10:20 AM    <DIR>          .ipynb_checkpoints\n",
      "12/04/2021  10:39 AM    <DIR>          .ipython\n",
      "12/04/2021  12:33 PM    <DIR>          .jupyter\n",
      "01/22/2022  11:00 AM    <DIR>          __pycache__\n",
      "01/16/2022  01:18 PM            38,836 15-1-2022 (exceptional handling).ipynb\n",
      "12/23/2021  07:16 PM            14,347 21-12-2021.ipynb\n",
      "01/22/2022  11:00 AM             9,320 22-1-2022.ipynb\n",
      "04/10/2021  12:06 AM    <DIR>          3D Objects\n",
      "01/08/2022  12:57 PM            29,862 8-1-2022.ipynb\n",
      "01/09/2022  01:04 PM           245,981 9-1-2022 generator.ipynb\n",
      "12/25/2021  12:24 PM    <DIR>          anaconda3\n",
      "01/03/2022  10:52 PM             2,965 Assigment-2.ipynb\n",
      "04/10/2021  12:06 AM    <DIR>          Contacts\n",
      "01/15/2022  11:10 AM    <DIR>          Desktop\n",
      "11/28/2021  01:16 PM    <DIR>          Documents\n",
      "01/08/2022  10:22 AM    <DIR>          Downloads\n",
      "04/10/2021  12:06 AM    <DIR>          Favorites\n",
      "01/09/2022  12:47 PM             3,744 google.txt\n",
      "04/10/2021  12:06 AM    <DIR>          Links\n",
      "04/10/2021  12:06 AM    <DIR>          Music\n",
      "01/22/2022  11:01 AM                 0 my_module.py\n",
      "05/16/2021  10:56 AM    <DIR>          OneDrive\n",
      "09/14/2020  09:24 PM    <DIR>          opera autoupdate\n",
      "04/10/2021  12:06 AM    <DIR>          Pictures\n",
      "12/12/2021  11:56 AM            15,307 Practice 12-12-2021.ipynb\n",
      "12/12/2021  10:41 AM            20,735 Python Basic 4th Dec.ipynb\n",
      "12/12/2021  11:34 AM            57,587 Python Basic 5th Dec.ipynb\n",
      "12/29/2021  09:58 PM            21,196 Python Control flow(if, while) 19-12-2021.ipynb\n",
      "12/19/2021  10:12 AM            50,100 Python Tuples, Set, Dict 18-12-2021.ipynb\n",
      "04/10/2021  12:06 AM    <DIR>          Saved Games\n",
      "04/10/2021  12:06 AM    <DIR>          Searches\n",
      "01/15/2022  10:37 AM                13 test.txt\n",
      "01/22/2022  10:43 AM               133 test1.py\n",
      "01/22/2022  11:00 AM                60 test21.py\n",
      "01/15/2022  10:37 AM                13 test5.txt\n",
      "01/16/2022  12:55 PM               886 testX.log\n",
      "01/16/2022  01:10 PM               329 testZ.log\n",
      "11/28/2021  09:57 AM    <DIR>          Tracing\n",
      "12/05/2021  01:22 PM                72 Untitled.ipynb\n",
      "12/29/2021  10:50 PM             3,310 Untitled1.ipynb\n",
      "01/22/2022  10:22 AM               588 Untitled3.ipynb\n",
      "04/10/2021  12:06 AM    <DIR>          Videos\n",
      "12/21/2021  08:10 PM            17,172 While loop 20-12-2021.ipynb\n",
      "              24 File(s)        532,581 bytes\n",
      "              25 Dir(s)  251,322,494,976 bytes free\n"
     ]
    }
   ],
   "source": [
    "ls\n"
   ]
  },
  {
   "cell_type": "code",
   "execution_count": 3,
   "id": "bcdcb869",
   "metadata": {},
   "outputs": [],
   "source": [
    "import my_module"
   ]
  },
  {
   "cell_type": "code",
   "execution_count": 8,
   "id": "c38da98a",
   "metadata": {},
   "outputs": [
    {
     "data": {
      "text/plain": [
       "['greetings']"
      ]
     },
     "execution_count": 8,
     "metadata": {},
     "output_type": "execute_result"
    }
   ],
   "source": [
    "my_module.greeting()"
   ]
  },
  {
   "cell_type": "markdown",
   "id": "7af373a6",
   "metadata": {},
   "source": []
  },
  {
   "cell_type": "code",
   "execution_count": null,
   "id": "ca383995",
   "metadata": {},
   "outputs": [],
   "source": [
    "my_module.get_course()"
   ]
  },
  {
   "cell_type": "code",
   "execution_count": 4,
   "id": "3abb5118",
   "metadata": {},
   "outputs": [
    {
     "data": {
      "text/plain": [
       "'krish'"
      ]
     },
     "execution_count": 4,
     "metadata": {},
     "output_type": "execute_result"
    }
   ],
   "source": [
    "my_module.name()"
   ]
  },
  {
   "cell_type": "code",
   "execution_count": null,
   "id": "32c2cbc3",
   "metadata": {},
   "outputs": [],
   "source": []
  }
 ],
 "metadata": {
  "kernelspec": {
   "display_name": "Python 3 (ipykernel)",
   "language": "python",
   "name": "python3"
  },
  "language_info": {
   "codemirror_mode": {
    "name": "ipython",
    "version": 3
   },
   "file_extension": ".py",
   "mimetype": "text/x-python",
   "name": "python",
   "nbconvert_exporter": "python",
   "pygments_lexer": "ipython3",
   "version": "3.9.7"
  }
 },
 "nbformat": 4,
 "nbformat_minor": 5
}

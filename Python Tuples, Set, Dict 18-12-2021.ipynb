{
 "cells": [
  {
   "cell_type": "code",
   "execution_count": 1,
   "id": "28de068a",
   "metadata": {},
   "outputs": [],
   "source": [
    "t = (1,2,3,4,5)"
   ]
  },
  {
   "cell_type": "code",
   "execution_count": 2,
   "id": "6be4da55",
   "metadata": {},
   "outputs": [
    {
     "data": {
      "text/plain": [
       "tuple"
      ]
     },
     "execution_count": 2,
     "metadata": {},
     "output_type": "execute_result"
    }
   ],
   "source": [
    "type(t)"
   ]
  },
  {
   "cell_type": "code",
   "execution_count": 5,
   "id": "522f47e0",
   "metadata": {},
   "outputs": [],
   "source": [
    "t1 = ('sudh', 345, 45+5j, 546.56, True)"
   ]
  },
  {
   "cell_type": "code",
   "execution_count": 10,
   "id": "b8ab5312",
   "metadata": {},
   "outputs": [
    {
     "data": {
      "text/plain": [
       "tuple"
      ]
     },
     "execution_count": 10,
     "metadata": {},
     "output_type": "execute_result"
    }
   ],
   "source": [
    "type(t1)"
   ]
  },
  {
   "cell_type": "code",
   "execution_count": 11,
   "id": "090f481b",
   "metadata": {},
   "outputs": [],
   "source": [
    "l = ['sudh', 345, 45+5j, 546.56, True]"
   ]
  },
  {
   "cell_type": "code",
   "execution_count": 12,
   "id": "73c5be16",
   "metadata": {},
   "outputs": [
    {
     "data": {
      "text/plain": [
       "list"
      ]
     },
     "execution_count": 12,
     "metadata": {},
     "output_type": "execute_result"
    }
   ],
   "source": [
    "type(l)"
   ]
  },
  {
   "cell_type": "code",
   "execution_count": 13,
   "id": "dfc68175",
   "metadata": {},
   "outputs": [],
   "source": [
    "t2 = ()"
   ]
  },
  {
   "cell_type": "code",
   "execution_count": 14,
   "id": "8b8482a8",
   "metadata": {},
   "outputs": [
    {
     "data": {
      "text/plain": [
       "tuple"
      ]
     },
     "execution_count": 14,
     "metadata": {},
     "output_type": "execute_result"
    }
   ],
   "source": [
    "type(t2)"
   ]
  },
  {
   "cell_type": "code",
   "execution_count": 15,
   "id": "5a260e34",
   "metadata": {},
   "outputs": [
    {
     "data": {
      "text/plain": [
       "('sudh', 345, (45+5j), 546.56, True)"
      ]
     },
     "execution_count": 15,
     "metadata": {},
     "output_type": "execute_result"
    }
   ],
   "source": [
    "t1"
   ]
  },
  {
   "cell_type": "code",
   "execution_count": 16,
   "id": "90fd2395",
   "metadata": {},
   "outputs": [
    {
     "data": {
      "text/plain": [
       "['sudh', 345, (45+5j), 546.56, True]"
      ]
     },
     "execution_count": 16,
     "metadata": {},
     "output_type": "execute_result"
    }
   ],
   "source": [
    "l"
   ]
  },
  {
   "cell_type": "code",
   "execution_count": 17,
   "id": "83723e89",
   "metadata": {},
   "outputs": [
    {
     "data": {
      "text/plain": [
       "['sudh', 345]"
      ]
     },
     "execution_count": 17,
     "metadata": {},
     "output_type": "execute_result"
    }
   ],
   "source": [
    "l[0:2]"
   ]
  },
  {
   "cell_type": "code",
   "execution_count": 19,
   "id": "5b943495",
   "metadata": {},
   "outputs": [
    {
     "data": {
      "text/plain": [
       "('sudh', 345)"
      ]
     },
     "execution_count": 19,
     "metadata": {},
     "output_type": "execute_result"
    }
   ],
   "source": [
    "t1[0:2]"
   ]
  },
  {
   "cell_type": "code",
   "execution_count": 20,
   "id": "97e26ee3",
   "metadata": {},
   "outputs": [
    {
     "data": {
      "text/plain": [
       "(True, 546.56, (45+5j), 345, 'sudh')"
      ]
     },
     "execution_count": 20,
     "metadata": {},
     "output_type": "execute_result"
    }
   ],
   "source": [
    "t1[::-1]"
   ]
  },
  {
   "cell_type": "code",
   "execution_count": 27,
   "id": "176677e0",
   "metadata": {},
   "outputs": [
    {
     "data": {
      "text/plain": [
       "True"
      ]
     },
     "execution_count": 27,
     "metadata": {},
     "output_type": "execute_result"
    }
   ],
   "source": [
    "t1[-1]"
   ]
  },
  {
   "cell_type": "code",
   "execution_count": 30,
   "id": "fb6092e2",
   "metadata": {},
   "outputs": [
    {
     "data": {
      "text/plain": [
       "('sudh', (45+5j), True)"
      ]
     },
     "execution_count": 30,
     "metadata": {},
     "output_type": "execute_result"
    }
   ],
   "source": [
    "t1[0::2]"
   ]
  },
  {
   "cell_type": "code",
   "execution_count": 31,
   "id": "e3a7f6a1",
   "metadata": {},
   "outputs": [
    {
     "data": {
      "text/plain": [
       "['sudh', 345, (45+5j), 546.56, True]"
      ]
     },
     "execution_count": 31,
     "metadata": {},
     "output_type": "execute_result"
    }
   ],
   "source": [
    "l"
   ]
  },
  {
   "cell_type": "code",
   "execution_count": 32,
   "id": "62756540",
   "metadata": {},
   "outputs": [],
   "source": [
    "l1 = [4,5,6,7]"
   ]
  },
  {
   "cell_type": "code",
   "execution_count": 33,
   "id": "35eeefc1",
   "metadata": {},
   "outputs": [
    {
     "data": {
      "text/plain": [
       "[4, 5, 6, 7]"
      ]
     },
     "execution_count": 33,
     "metadata": {},
     "output_type": "execute_result"
    }
   ],
   "source": [
    "l1"
   ]
  },
  {
   "cell_type": "code",
   "execution_count": 35,
   "id": "8e75c973",
   "metadata": {},
   "outputs": [],
   "source": [
    "l[0] = \"Krish\""
   ]
  },
  {
   "cell_type": "code",
   "execution_count": 36,
   "id": "da99aa3d",
   "metadata": {},
   "outputs": [
    {
     "data": {
      "text/plain": [
       "['Krish', 345, (45+5j), 546.56, True]"
      ]
     },
     "execution_count": 36,
     "metadata": {},
     "output_type": "execute_result"
    }
   ],
   "source": [
    "l"
   ]
  },
  {
   "cell_type": "code",
   "execution_count": 37,
   "id": "639057c4",
   "metadata": {},
   "outputs": [
    {
     "data": {
      "text/plain": [
       "('sudh', 345, (45+5j), 546.56, True)"
      ]
     },
     "execution_count": 37,
     "metadata": {},
     "output_type": "execute_result"
    }
   ],
   "source": [
    "t1"
   ]
  },
  {
   "cell_type": "code",
   "execution_count": 39,
   "id": "651853e3",
   "metadata": {},
   "outputs": [
    {
     "ename": "TypeError",
     "evalue": "'tuple' object does not support item assignment",
     "output_type": "error",
     "traceback": [
      "\u001b[1;31m---------------------------------------------------------------------------\u001b[0m",
      "\u001b[1;31mTypeError\u001b[0m                                 Traceback (most recent call last)",
      "\u001b[1;32m~\\AppData\\Local\\Temp/ipykernel_6268/1661905621.py\u001b[0m in \u001b[0;36m<module>\u001b[1;34m\u001b[0m\n\u001b[1;32m----> 1\u001b[1;33m \u001b[0mt1\u001b[0m\u001b[1;33m[\u001b[0m\u001b[1;36m0\u001b[0m\u001b[1;33m]\u001b[0m\u001b[1;33m=\u001b[0m\u001b[1;34m\"sudh\"\u001b[0m\u001b[1;33m\u001b[0m\u001b[1;33m\u001b[0m\u001b[0m\n\u001b[0m",
      "\u001b[1;31mTypeError\u001b[0m: 'tuple' object does not support item assignment"
     ]
    }
   ],
   "source": [
    "t1[0]=\"sudh\""
   ]
  },
  {
   "cell_type": "code",
   "execution_count": 40,
   "id": "d824fa39",
   "metadata": {},
   "outputs": [],
   "source": [
    "s = 'sudh'"
   ]
  },
  {
   "cell_type": "code",
   "execution_count": 44,
   "id": "fd8d1af0",
   "metadata": {},
   "outputs": [
    {
     "ename": "SyntaxError",
     "evalue": "invalid syntax (Temp/ipykernel_6268/1877706315.py, line 1)",
     "output_type": "error",
     "traceback": [
      "\u001b[1;36m  File \u001b[1;32m\"C:\\Users\\hp\\AppData\\Local\\Temp/ipykernel_6268/1877706315.py\"\u001b[1;36m, line \u001b[1;32m1\u001b[0m\n\u001b[1;33m    s[0] = 45t1\u001b[0m\n\u001b[1;37m             ^\u001b[0m\n\u001b[1;31mSyntaxError\u001b[0m\u001b[1;31m:\u001b[0m invalid syntax\n"
     ]
    }
   ],
   "source": [
    "s[0] = 45"
   ]
  },
  {
   "cell_type": "code",
   "execution_count": 45,
   "id": "45d27718",
   "metadata": {},
   "outputs": [
    {
     "data": {
      "text/plain": [
       "('sudh', 345, (45+5j), 546.56, True)"
      ]
     },
     "execution_count": 45,
     "metadata": {},
     "output_type": "execute_result"
    }
   ],
   "source": [
    "t1"
   ]
  },
  {
   "cell_type": "code",
   "execution_count": 46,
   "id": "e16f66c2",
   "metadata": {},
   "outputs": [],
   "source": [
    "t2= (34,35,36,355)"
   ]
  },
  {
   "cell_type": "code",
   "execution_count": 47,
   "id": "4cdfc30c",
   "metadata": {},
   "outputs": [
    {
     "data": {
      "text/plain": [
       "(34, 35, 36, 355)"
      ]
     },
     "execution_count": 47,
     "metadata": {},
     "output_type": "execute_result"
    }
   ],
   "source": [
    "t2"
   ]
  },
  {
   "cell_type": "code",
   "execution_count": 48,
   "id": "abe052ca",
   "metadata": {},
   "outputs": [
    {
     "data": {
      "text/plain": [
       "('sudh', 345, (45+5j), 546.56, True, 34, 35, 36, 355)"
      ]
     },
     "execution_count": 48,
     "metadata": {},
     "output_type": "execute_result"
    }
   ],
   "source": [
    "t1+t2"
   ]
  },
  {
   "cell_type": "code",
   "execution_count": 49,
   "id": "07dc2357",
   "metadata": {},
   "outputs": [
    {
     "data": {
      "text/plain": [
       "['Krish', 345, (45+5j), 546.56, True]"
      ]
     },
     "execution_count": 49,
     "metadata": {},
     "output_type": "execute_result"
    }
   ],
   "source": [
    "l"
   ]
  },
  {
   "cell_type": "code",
   "execution_count": 50,
   "id": "535ec370",
   "metadata": {},
   "outputs": [
    {
     "data": {
      "text/plain": [
       "[4, 5, 6, 7]"
      ]
     },
     "execution_count": 50,
     "metadata": {},
     "output_type": "execute_result"
    }
   ],
   "source": [
    "l1"
   ]
  },
  {
   "cell_type": "code",
   "execution_count": 51,
   "id": "57fb9899",
   "metadata": {},
   "outputs": [
    {
     "data": {
      "text/plain": [
       "['Krish', 345, (45+5j), 546.56, True, 4, 5, 6, 7]"
      ]
     },
     "execution_count": 51,
     "metadata": {},
     "output_type": "execute_result"
    }
   ],
   "source": [
    "l+l1"
   ]
  },
  {
   "cell_type": "code",
   "execution_count": 52,
   "id": "e4875cc1",
   "metadata": {},
   "outputs": [
    {
     "data": {
      "text/plain": [
       "('sudh', 345, (45+5j), 546.56, True)"
      ]
     },
     "execution_count": 52,
     "metadata": {},
     "output_type": "execute_result"
    }
   ],
   "source": [
    "t1"
   ]
  },
  {
   "cell_type": "code",
   "execution_count": 54,
   "id": "0c1d0e84",
   "metadata": {},
   "outputs": [
    {
     "data": {
      "text/plain": [
       "('sudh', 345, (45+5j), 546.56, True, 'sudh', 345, (45+5j), 546.56, True)"
      ]
     },
     "execution_count": 54,
     "metadata": {},
     "output_type": "execute_result"
    }
   ],
   "source": [
    "t1*2"
   ]
  },
  {
   "cell_type": "code",
   "execution_count": 56,
   "id": "62af8b4b",
   "metadata": {},
   "outputs": [
    {
     "data": {
      "text/plain": [
       "1"
      ]
     },
     "execution_count": 56,
     "metadata": {},
     "output_type": "execute_result"
    }
   ],
   "source": [
    "t1.count('sudh')"
   ]
  },
  {
   "cell_type": "code",
   "execution_count": 57,
   "id": "529837bf",
   "metadata": {},
   "outputs": [
    {
     "data": {
      "text/plain": [
       "0"
      ]
     },
     "execution_count": 57,
     "metadata": {},
     "output_type": "execute_result"
    }
   ],
   "source": [
    "t1.index(\"sudh\")"
   ]
  },
  {
   "cell_type": "code",
   "execution_count": 58,
   "id": "1abdfb27",
   "metadata": {},
   "outputs": [],
   "source": [
    "t = (45,54,5,85, (4,5,6), (\"Krish\"))"
   ]
  },
  {
   "cell_type": "code",
   "execution_count": 59,
   "id": "61feeb1d",
   "metadata": {},
   "outputs": [
    {
     "data": {
      "text/plain": [
       "(45, 54, 5, 85, (4, 5, 6), 'Krish')"
      ]
     },
     "execution_count": 59,
     "metadata": {},
     "output_type": "execute_result"
    }
   ],
   "source": [
    "t"
   ]
  },
  {
   "cell_type": "code",
   "execution_count": 60,
   "id": "c133bd9c",
   "metadata": {},
   "outputs": [],
   "source": [
    "t1 = ([3,5,6,5,8] , (\"sd\", 4536, 85+9j), \"Krish\")"
   ]
  },
  {
   "cell_type": "code",
   "execution_count": 61,
   "id": "f50936fd",
   "metadata": {},
   "outputs": [
    {
     "data": {
      "text/plain": [
       "([3, 5, 6, 5, 8], ('sd', 4536, (85+9j)), 'Krish')"
      ]
     },
     "execution_count": 61,
     "metadata": {},
     "output_type": "execute_result"
    }
   ],
   "source": [
    "t1"
   ]
  },
  {
   "cell_type": "code",
   "execution_count": 64,
   "id": "e301d6a3",
   "metadata": {},
   "outputs": [
    {
     "data": {
      "text/plain": [
       "[3, 5, 6, 5, 8]"
      ]
     },
     "execution_count": 64,
     "metadata": {},
     "output_type": "execute_result"
    }
   ],
   "source": [
    "t1[0]"
   ]
  },
  {
   "cell_type": "code",
   "execution_count": 66,
   "id": "0c7bf288",
   "metadata": {},
   "outputs": [],
   "source": [
    "t1[0][2] = 'Sudh'"
   ]
  },
  {
   "cell_type": "code",
   "execution_count": 67,
   "id": "8bac24c7",
   "metadata": {},
   "outputs": [
    {
     "data": {
      "text/plain": [
       "([3, 5, 'Sudh', 5, 8], ('sd', 4536, (85+9j)), 'Krish')"
      ]
     },
     "execution_count": 67,
     "metadata": {},
     "output_type": "execute_result"
    }
   ],
   "source": [
    "t1"
   ]
  },
  {
   "cell_type": "code",
   "execution_count": 70,
   "id": "59a7cf47",
   "metadata": {},
   "outputs": [
    {
     "ename": "TypeError",
     "evalue": "'tuple' object does not support item assignment",
     "output_type": "error",
     "traceback": [
      "\u001b[1;31m---------------------------------------------------------------------------\u001b[0m",
      "\u001b[1;31mTypeError\u001b[0m                                 Traceback (most recent call last)",
      "\u001b[1;32m~\\AppData\\Local\\Temp/ipykernel_6268/832285932.py\u001b[0m in \u001b[0;36m<module>\u001b[1;34m\u001b[0m\n\u001b[1;32m----> 1\u001b[1;33m \u001b[0mt1\u001b[0m\u001b[1;33m[\u001b[0m\u001b[1;36m1\u001b[0m\u001b[1;33m]\u001b[0m\u001b[1;33m[\u001b[0m\u001b[1;36m1\u001b[0m\u001b[1;33m]\u001b[0m \u001b[1;33m=\u001b[0m \u001b[1;34m'Krish'\u001b[0m\u001b[1;33m\u001b[0m\u001b[1;33m\u001b[0m\u001b[0m\n\u001b[0m",
      "\u001b[1;31mTypeError\u001b[0m: 'tuple' object does not support item assignment"
     ]
    }
   ],
   "source": [
    "t1[1][1] = 'Sudh'"
   ]
  },
  {
   "cell_type": "code",
   "execution_count": 71,
   "id": "daf4e49f",
   "metadata": {},
   "outputs": [
    {
     "data": {
      "text/plain": [
       "([3, 5, 'Sudh', 5, 8], ('sd', 4536, (85+9j)), 'Krish')"
      ]
     },
     "execution_count": 71,
     "metadata": {},
     "output_type": "execute_result"
    }
   ],
   "source": [
    "t1"
   ]
  },
  {
   "cell_type": "code",
   "execution_count": 72,
   "id": "4fd1880f",
   "metadata": {},
   "outputs": [],
   "source": [
    "l = list(t1)"
   ]
  },
  {
   "cell_type": "code",
   "execution_count": 73,
   "id": "94ff2ca6",
   "metadata": {},
   "outputs": [
    {
     "data": {
      "text/plain": [
       "[[3, 5, 'Sudh', 5, 8], ('sd', 4536, (85+9j)), 'Krish']"
      ]
     },
     "execution_count": 73,
     "metadata": {},
     "output_type": "execute_result"
    }
   ],
   "source": [
    "l"
   ]
  },
  {
   "cell_type": "code",
   "execution_count": 75,
   "id": "71ad96e9",
   "metadata": {},
   "outputs": [
    {
     "data": {
      "text/plain": [
       "([3, 5, 'Sudh', 5, 8], ('sd', 4536, (85+9j)), 'Krish')"
      ]
     },
     "execution_count": 75,
     "metadata": {},
     "output_type": "execute_result"
    }
   ],
   "source": [
    "tuple(l)"
   ]
  },
  {
   "cell_type": "code",
   "execution_count": 76,
   "id": "b3ae9f6e",
   "metadata": {},
   "outputs": [],
   "source": [
    "l = [1,2,3,41,5,5,5,5,6,8,9,2,9,523,8,72]"
   ]
  },
  {
   "cell_type": "code",
   "execution_count": 77,
   "id": "8baf360f",
   "metadata": {},
   "outputs": [
    {
     "data": {
      "text/plain": [
       "[1, 2, 3, 41, 5, 5, 5, 5, 6, 8, 9, 2, 9, 523, 8, 72]"
      ]
     },
     "execution_count": 77,
     "metadata": {},
     "output_type": "execute_result"
    }
   ],
   "source": [
    "l"
   ]
  },
  {
   "cell_type": "code",
   "execution_count": 78,
   "id": "83bc31b6",
   "metadata": {},
   "outputs": [
    {
     "data": {
      "text/plain": [
       "{1, 2, 3, 5, 6, 8, 9, 41, 72, 523}"
      ]
     },
     "execution_count": 78,
     "metadata": {},
     "output_type": "execute_result"
    }
   ],
   "source": [
    "set(l)"
   ]
  },
  {
   "cell_type": "code",
   "execution_count": 80,
   "id": "a4c98b8f",
   "metadata": {},
   "outputs": [
    {
     "data": {
      "text/plain": [
       "[1, 2, 3, 41, 5, 5, 5, 5, 6, 8, 9, 2, 9, 523, 8, 72]"
      ]
     },
     "execution_count": 80,
     "metadata": {},
     "output_type": "execute_result"
    }
   ],
   "source": [
    "l"
   ]
  },
  {
   "cell_type": "code",
   "execution_count": 81,
   "id": "d462b9d3",
   "metadata": {},
   "outputs": [],
   "source": [
    "s = {}"
   ]
  },
  {
   "cell_type": "code",
   "execution_count": 82,
   "id": "b0284071",
   "metadata": {},
   "outputs": [
    {
     "data": {
      "text/plain": [
       "dict"
      ]
     },
     "execution_count": 82,
     "metadata": {},
     "output_type": "execute_result"
    }
   ],
   "source": [
    "type(s)"
   ]
  },
  {
   "cell_type": "code",
   "execution_count": 83,
   "id": "967025ba",
   "metadata": {},
   "outputs": [],
   "source": [
    "s1 = {2,3,4}"
   ]
  },
  {
   "cell_type": "code",
   "execution_count": 84,
   "id": "8bd3b3e5",
   "metadata": {},
   "outputs": [
    {
     "data": {
      "text/plain": [
       "set"
      ]
     },
     "execution_count": 84,
     "metadata": {},
     "output_type": "execute_result"
    }
   ],
   "source": [
    "type(s1)"
   ]
  },
  {
   "cell_type": "code",
   "execution_count": 85,
   "id": "879a2fcf",
   "metadata": {},
   "outputs": [],
   "source": [
    "s2 = {1,2,3,4,3,45,63,44,1,1,1,24,4,4,4,4}"
   ]
  },
  {
   "cell_type": "code",
   "execution_count": 86,
   "id": "2ae8af72",
   "metadata": {},
   "outputs": [
    {
     "data": {
      "text/plain": [
       "{1, 2, 3, 4, 24, 44, 45, 63}"
      ]
     },
     "execution_count": 86,
     "metadata": {},
     "output_type": "execute_result"
    }
   ],
   "source": [
    "s2"
   ]
  },
  {
   "cell_type": "code",
   "execution_count": 87,
   "id": "81c68e17",
   "metadata": {},
   "outputs": [
    {
     "ename": "TypeError",
     "evalue": "'set' object is not subscriptable",
     "output_type": "error",
     "traceback": [
      "\u001b[1;31m---------------------------------------------------------------------------\u001b[0m",
      "\u001b[1;31mTypeError\u001b[0m                                 Traceback (most recent call last)",
      "\u001b[1;32m~\\AppData\\Local\\Temp/ipykernel_6268/2344841457.py\u001b[0m in \u001b[0;36m<module>\u001b[1;34m\u001b[0m\n\u001b[1;32m----> 1\u001b[1;33m \u001b[0ms2\u001b[0m\u001b[1;33m[\u001b[0m\u001b[1;36m0\u001b[0m\u001b[1;33m]\u001b[0m\u001b[1;33m\u001b[0m\u001b[1;33m\u001b[0m\u001b[0m\n\u001b[0m",
      "\u001b[1;31mTypeError\u001b[0m: 'set' object is not subscriptable"
     ]
    }
   ],
   "source": [
    "s2[0]"
   ]
  },
  {
   "cell_type": "code",
   "execution_count": 88,
   "id": "db9f8fa5",
   "metadata": {},
   "outputs": [
    {
     "data": {
      "text/plain": [
       "[1, 2, 3, 4, 44, 45, 24, 63]"
      ]
     },
     "execution_count": 88,
     "metadata": {},
     "output_type": "execute_result"
    }
   ],
   "source": [
    "list(s2)"
   ]
  },
  {
   "cell_type": "code",
   "execution_count": 89,
   "id": "16a7db3e",
   "metadata": {},
   "outputs": [
    {
     "data": {
      "text/plain": [
       "{1, 2, 3, 4, 24, 44, 45, 63}"
      ]
     },
     "execution_count": 89,
     "metadata": {},
     "output_type": "execute_result"
    }
   ],
   "source": [
    "s2"
   ]
  },
  {
   "cell_type": "code",
   "execution_count": 90,
   "id": "276ac959",
   "metadata": {},
   "outputs": [
    {
     "data": {
      "text/plain": [
       "set"
      ]
     },
     "execution_count": 90,
     "metadata": {},
     "output_type": "execute_result"
    }
   ],
   "source": [
    "type(s2)"
   ]
  },
  {
   "cell_type": "code",
   "execution_count": 91,
   "id": "59c79138",
   "metadata": {},
   "outputs": [],
   "source": [
    "s2.add('kskr')"
   ]
  },
  {
   "cell_type": "code",
   "execution_count": 92,
   "id": "f11712c6",
   "metadata": {},
   "outputs": [
    {
     "data": {
      "text/plain": [
       "{1, 2, 24, 3, 4, 44, 45, 63, 'kskr'}"
      ]
     },
     "execution_count": 92,
     "metadata": {},
     "output_type": "execute_result"
    }
   ],
   "source": [
    "s2"
   ]
  },
  {
   "cell_type": "code",
   "execution_count": 93,
   "id": "7ba381bd",
   "metadata": {},
   "outputs": [],
   "source": [
    "s2.add(562)"
   ]
  },
  {
   "cell_type": "code",
   "execution_count": 94,
   "id": "1b12ecb8",
   "metadata": {},
   "outputs": [
    {
     "data": {
      "text/plain": [
       "{1, 2, 24, 3, 4, 44, 45, 562, 63, 'kskr'}"
      ]
     },
     "execution_count": 94,
     "metadata": {},
     "output_type": "execute_result"
    }
   ],
   "source": [
    "s2"
   ]
  },
  {
   "cell_type": "code",
   "execution_count": 96,
   "id": "0c0b52a0",
   "metadata": {},
   "outputs": [
    {
     "ename": "TypeError",
     "evalue": "unhashable type: 'list'",
     "output_type": "error",
     "traceback": [
      "\u001b[1;31m---------------------------------------------------------------------------\u001b[0m",
      "\u001b[1;31mTypeError\u001b[0m                                 Traceback (most recent call last)",
      "\u001b[1;32m~\\AppData\\Local\\Temp/ipykernel_6268/2273971799.py\u001b[0m in \u001b[0;36m<module>\u001b[1;34m\u001b[0m\n\u001b[1;32m----> 1\u001b[1;33m \u001b[0ms2\u001b[0m\u001b[1;33m.\u001b[0m\u001b[0madd\u001b[0m\u001b[1;33m(\u001b[0m\u001b[1;33m[\u001b[0m\u001b[1;36m3\u001b[0m\u001b[1;33m,\u001b[0m\u001b[1;36m3\u001b[0m\u001b[1;33m,\u001b[0m\u001b[1;36m4\u001b[0m\u001b[1;33m,\u001b[0m\u001b[1;36m5\u001b[0m\u001b[1;33m]\u001b[0m\u001b[1;33m)\u001b[0m\u001b[1;33m\u001b[0m\u001b[1;33m\u001b[0m\u001b[0m\n\u001b[0m",
      "\u001b[1;31mTypeError\u001b[0m: unhashable type: 'list'"
     ]
    }
   ],
   "source": [
    "s2.add([3,3,4,5])"
   ]
  },
  {
   "cell_type": "code",
   "execution_count": 97,
   "id": "a0cf42af",
   "metadata": {},
   "outputs": [
    {
     "ename": "TypeError",
     "evalue": "unhashable type: 'list'",
     "output_type": "error",
     "traceback": [
      "\u001b[1;31m---------------------------------------------------------------------------\u001b[0m",
      "\u001b[1;31mTypeError\u001b[0m                                 Traceback (most recent call last)",
      "\u001b[1;32m~\\AppData\\Local\\Temp/ipykernel_6268/2919713902.py\u001b[0m in \u001b[0;36m<module>\u001b[1;34m\u001b[0m\n\u001b[1;32m----> 1\u001b[1;33m \u001b[1;33m{\u001b[0m\u001b[1;33m[\u001b[0m\u001b[1;36m3\u001b[0m\u001b[1;33m,\u001b[0m\u001b[1;36m45\u001b[0m\u001b[1;33m,\u001b[0m\u001b[1;36m5\u001b[0m\u001b[1;33m,\u001b[0m\u001b[1;36m6\u001b[0m\u001b[1;33m,\u001b[0m\u001b[1;36m6\u001b[0m\u001b[1;33m,\u001b[0m\u001b[1;33m]\u001b[0m\u001b[1;33m,\u001b[0m \u001b[1;36m3\u001b[0m\u001b[1;33m,\u001b[0m\u001b[1;36m4\u001b[0m\u001b[1;33m,\u001b[0m\u001b[1;36m4\u001b[0m\u001b[1;33m,\u001b[0m\u001b[1;36m5\u001b[0m\u001b[1;33m,\u001b[0m\u001b[1;36m67\u001b[0m\u001b[1;33m}\u001b[0m\u001b[1;33m\u001b[0m\u001b[1;33m\u001b[0m\u001b[0m\n\u001b[0m",
      "\u001b[1;31mTypeError\u001b[0m: unhashable type: 'list'"
     ]
    }
   ],
   "source": [
    "{[3,45,5,6,6,], 3,4,4,5,67}"
   ]
  },
  {
   "cell_type": "code",
   "execution_count": 99,
   "id": "8b812297",
   "metadata": {},
   "outputs": [
    {
     "data": {
      "text/plain": [
       "{(93, 45, 5, 6, 6, 0), 3, 4, 5, 67}"
      ]
     },
     "execution_count": 99,
     "metadata": {},
     "output_type": "execute_result"
    }
   ],
   "source": [
    "{(93,45,5,6,6,0), 3,4,4,5,67}"
   ]
  },
  {
   "cell_type": "code",
   "execution_count": 101,
   "id": "03993c4e",
   "metadata": {},
   "outputs": [
    {
     "data": {
      "text/plain": [
       "{(93, 45, 5, 6, 6, 0), 3, 4, 5, 67}"
      ]
     },
     "execution_count": 101,
     "metadata": {},
     "output_type": "execute_result"
    }
   ],
   "source": [
    "{(93,45,5,6,6,0), (93,45,5,6,6,0), 3,4,4,5,67}"
   ]
  },
  {
   "cell_type": "code",
   "execution_count": 102,
   "id": "aca3645e",
   "metadata": {},
   "outputs": [],
   "source": [
    "s = {(3,4,5,6), (3,4,5,6), 3,4,5,6,8}"
   ]
  },
  {
   "cell_type": "code",
   "execution_count": 103,
   "id": "103262ad",
   "metadata": {},
   "outputs": [
    {
     "data": {
      "text/plain": [
       "{(3, 4, 5, 6), 3, 4, 5, 6, 8}"
      ]
     },
     "execution_count": 103,
     "metadata": {},
     "output_type": "execute_result"
    }
   ],
   "source": [
    "s"
   ]
  },
  {
   "cell_type": "code",
   "execution_count": 104,
   "id": "87e3714a",
   "metadata": {},
   "outputs": [],
   "source": [
    "s.remove(4)"
   ]
  },
  {
   "cell_type": "code",
   "execution_count": 105,
   "id": "885f6ab6",
   "metadata": {},
   "outputs": [
    {
     "data": {
      "text/plain": [
       "{(3, 4, 5, 6), 3, 5, 6, 8}"
      ]
     },
     "execution_count": 105,
     "metadata": {},
     "output_type": "execute_result"
    }
   ],
   "source": [
    "s"
   ]
  },
  {
   "cell_type": "code",
   "execution_count": 106,
   "id": "5e299367",
   "metadata": {},
   "outputs": [],
   "source": [
    "s.discard(5)"
   ]
  },
  {
   "cell_type": "code",
   "execution_count": 107,
   "id": "31467344",
   "metadata": {},
   "outputs": [
    {
     "data": {
      "text/plain": [
       "{(3, 4, 5, 6), 3, 6, 8}"
      ]
     },
     "execution_count": 107,
     "metadata": {},
     "output_type": "execute_result"
    }
   ],
   "source": [
    "s"
   ]
  },
  {
   "cell_type": "code",
   "execution_count": 108,
   "id": "d839f2c3",
   "metadata": {},
   "outputs": [
    {
     "ename": "KeyError",
     "evalue": "45",
     "output_type": "error",
     "traceback": [
      "\u001b[1;31m---------------------------------------------------------------------------\u001b[0m",
      "\u001b[1;31mKeyError\u001b[0m                                  Traceback (most recent call last)",
      "\u001b[1;32m~\\AppData\\Local\\Temp/ipykernel_6268/2010124880.py\u001b[0m in \u001b[0;36m<module>\u001b[1;34m\u001b[0m\n\u001b[1;32m----> 1\u001b[1;33m \u001b[0ms\u001b[0m\u001b[1;33m.\u001b[0m\u001b[0mremove\u001b[0m\u001b[1;33m(\u001b[0m\u001b[1;36m45\u001b[0m\u001b[1;33m)\u001b[0m\u001b[1;33m\u001b[0m\u001b[1;33m\u001b[0m\u001b[0m\n\u001b[0m",
      "\u001b[1;31mKeyError\u001b[0m: 45"
     ]
    }
   ],
   "source": [
    "s.remove(45)"
   ]
  },
  {
   "cell_type": "code",
   "execution_count": 109,
   "id": "79d22c14",
   "metadata": {},
   "outputs": [],
   "source": [
    "s.discard(45)"
   ]
  },
  {
   "cell_type": "code",
   "execution_count": 110,
   "id": "67bf4f4b",
   "metadata": {},
   "outputs": [
    {
     "data": {
      "text/plain": [
       "{(3, 4, 5, 6), 3, 6, 8}"
      ]
     },
     "execution_count": 110,
     "metadata": {},
     "output_type": "execute_result"
    }
   ],
   "source": [
    "s"
   ]
  },
  {
   "cell_type": "code",
   "execution_count": 113,
   "id": "7d9bfeae",
   "metadata": {},
   "outputs": [
    {
     "data": {
      "text/plain": [
       "{1, 2, 3, 6, 'Sudh', 'sudh'}"
      ]
     },
     "execution_count": 113,
     "metadata": {},
     "output_type": "execute_result"
    }
   ],
   "source": [
    "{'sudh', \"Sudh\", 1,2,3,6}"
   ]
  },
  {
   "cell_type": "code",
   "execution_count": 114,
   "id": "7faf2ba4",
   "metadata": {},
   "outputs": [],
   "source": [
    "l = [1,2,3,4]"
   ]
  },
  {
   "cell_type": "code",
   "execution_count": 115,
   "id": "2c53433d",
   "metadata": {},
   "outputs": [
    {
     "data": {
      "text/plain": [
       "{1, 2, 3, 4}"
      ]
     },
     "execution_count": 115,
     "metadata": {},
     "output_type": "execute_result"
    }
   ],
   "source": [
    "set(l)"
   ]
  },
  {
   "cell_type": "code",
   "execution_count": 116,
   "id": "189ee29c",
   "metadata": {},
   "outputs": [],
   "source": [
    "d ={}"
   ]
  },
  {
   "cell_type": "code",
   "execution_count": 117,
   "id": "e86c74ba",
   "metadata": {},
   "outputs": [
    {
     "data": {
      "text/plain": [
       "dict"
      ]
     },
     "execution_count": 117,
     "metadata": {},
     "output_type": "execute_result"
    }
   ],
   "source": [
    "type(d)"
   ]
  },
  {
   "cell_type": "code",
   "execution_count": 118,
   "id": "e68e95d7",
   "metadata": {},
   "outputs": [],
   "source": [
    "d = {4:\"sudh\"}"
   ]
  },
  {
   "cell_type": "code",
   "execution_count": 119,
   "id": "b7c5bdd0",
   "metadata": {},
   "outputs": [
    {
     "data": {
      "text/plain": [
       "dict"
      ]
     },
     "execution_count": 119,
     "metadata": {},
     "output_type": "execute_result"
    }
   ],
   "source": [
    "type(d)"
   ]
  },
  {
   "cell_type": "code",
   "execution_count": 120,
   "id": "66a7962f",
   "metadata": {},
   "outputs": [
    {
     "data": {
      "text/plain": [
       "{4: 'sudh'}"
      ]
     },
     "execution_count": 120,
     "metadata": {},
     "output_type": "execute_result"
    }
   ],
   "source": [
    "d"
   ]
  },
  {
   "cell_type": "code",
   "execution_count": 124,
   "id": "54716e96",
   "metadata": {},
   "outputs": [],
   "source": [
    "d1 = {\"Key1\" : 5448, \"key2\" : \"sudh\", 45 : [3,4,5,6,]}"
   ]
  },
  {
   "cell_type": "code",
   "execution_count": 125,
   "id": "86db9a4e",
   "metadata": {},
   "outputs": [
    {
     "data": {
      "text/plain": [
       "{'Key1': 5448, 'key2': 'sudh', 45: [3, 4, 5, 6]}"
      ]
     },
     "execution_count": 125,
     "metadata": {},
     "output_type": "execute_result"
    }
   ],
   "source": [
    "d1"
   ]
  },
  {
   "cell_type": "code",
   "execution_count": 126,
   "id": "d4e7c626",
   "metadata": {},
   "outputs": [],
   "source": [
    "l = [3,4,5,5,6,7]"
   ]
  },
  {
   "cell_type": "code",
   "execution_count": 127,
   "id": "3bc3bb09",
   "metadata": {},
   "outputs": [
    {
     "data": {
      "text/plain": [
       "3"
      ]
     },
     "execution_count": 127,
     "metadata": {},
     "output_type": "execute_result"
    }
   ],
   "source": [
    "l[0]"
   ]
  },
  {
   "cell_type": "code",
   "execution_count": 129,
   "id": "6e2f2aa3",
   "metadata": {},
   "outputs": [
    {
     "data": {
      "text/plain": [
       "{'Key1': 5448, 'key2': 'sudh', 45: [3, 4, 5, 6]}"
      ]
     },
     "execution_count": 129,
     "metadata": {},
     "output_type": "execute_result"
    }
   ],
   "source": [
    "d1"
   ]
  },
  {
   "cell_type": "code",
   "execution_count": 130,
   "id": "5ca7efa6",
   "metadata": {},
   "outputs": [
    {
     "data": {
      "text/plain": [
       "5448"
      ]
     },
     "execution_count": 130,
     "metadata": {},
     "output_type": "execute_result"
    }
   ],
   "source": [
    "d1['Key1']"
   ]
  },
  {
   "cell_type": "code",
   "execution_count": 131,
   "id": "a89d6d60",
   "metadata": {},
   "outputs": [
    {
     "data": {
      "text/plain": [
       "[3, 4, 5, 6]"
      ]
     },
     "execution_count": 131,
     "metadata": {},
     "output_type": "execute_result"
    }
   ],
   "source": [
    "d1[45]"
   ]
  },
  {
   "cell_type": "code",
   "execution_count": 140,
   "id": "41e70285",
   "metadata": {},
   "outputs": [],
   "source": [
    "d = {.4 : [\"kskjk\", \"kshksd\", 3,56,6,7,7,85]}"
   ]
  },
  {
   "cell_type": "code",
   "execution_count": 141,
   "id": "0f3ac395",
   "metadata": {},
   "outputs": [
    {
     "data": {
      "text/plain": [
       "{0.4: ['kskjk', 'kshksd', 3, 56, 6, 7, 7, 85]}"
      ]
     },
     "execution_count": 141,
     "metadata": {},
     "output_type": "execute_result"
    }
   ],
   "source": [
    "d"
   ]
  },
  {
   "cell_type": "code",
   "execution_count": 142,
   "id": "b65da393",
   "metadata": {},
   "outputs": [],
   "source": [
    "d = {'key' : (3,4,5,6,7)}"
   ]
  },
  {
   "cell_type": "markdown",
   "id": "a802c621",
   "metadata": {},
   "source": [
    "d"
   ]
  },
  {
   "cell_type": "code",
   "execution_count": 143,
   "id": "1ac84419",
   "metadata": {},
   "outputs": [
    {
     "data": {
      "text/plain": [
       "{'key': (3, 4, 5, 6, 7)}"
      ]
     },
     "execution_count": 143,
     "metadata": {},
     "output_type": "execute_result"
    }
   ],
   "source": [
    "d"
   ]
  },
  {
   "cell_type": "code",
   "execution_count": 144,
   "id": "90d7ea82",
   "metadata": {},
   "outputs": [],
   "source": [
    "d1 = {'key1' : [2,3,4,5], 'key2' : \"sudh\", \"key1\": 45}"
   ]
  },
  {
   "cell_type": "code",
   "execution_count": 146,
   "id": "1dc15783",
   "metadata": {},
   "outputs": [
    {
     "data": {
      "text/plain": [
       "45"
      ]
     },
     "execution_count": 146,
     "metadata": {},
     "output_type": "execute_result"
    }
   ],
   "source": [
    "d1['key1']"
   ]
  },
  {
   "cell_type": "code",
   "execution_count": 147,
   "id": "29cc2083",
   "metadata": {},
   "outputs": [],
   "source": [
    "d1 = {'key1' : [2,3,4,5], 'key2' : [2,3,4,5], \"key1\": 45}"
   ]
  },
  {
   "cell_type": "code",
   "execution_count": 148,
   "id": "73485cca",
   "metadata": {},
   "outputs": [
    {
     "data": {
      "text/plain": [
       "{'key1': 45, 'key2': [2, 3, 4, 5]}"
      ]
     },
     "execution_count": 148,
     "metadata": {},
     "output_type": "execute_result"
    }
   ],
   "source": [
    "d1"
   ]
  },
  {
   "cell_type": "code",
   "execution_count": 149,
   "id": "187e8b9d",
   "metadata": {},
   "outputs": [],
   "source": [
    "d1 = {'key1' : [2,3,4,5], 'key2' : [2,3,4,5], \"krish\": 45}"
   ]
  },
  {
   "cell_type": "code",
   "execution_count": 150,
   "id": "172bfce7",
   "metadata": {},
   "outputs": [
    {
     "data": {
      "text/plain": [
       "45"
      ]
     },
     "execution_count": 150,
     "metadata": {},
     "output_type": "execute_result"
    }
   ],
   "source": [
    "d1['krish']"
   ]
  },
  {
   "cell_type": "code",
   "execution_count": 153,
   "id": "fd7af44b",
   "metadata": {},
   "outputs": [],
   "source": [
    "d3 = {'+++' : \"venu\"}"
   ]
  },
  {
   "cell_type": "code",
   "execution_count": 154,
   "id": "0f57d30c",
   "metadata": {},
   "outputs": [
    {
     "data": {
      "text/plain": [
       "{'+++': 'venu'}"
      ]
     },
     "execution_count": 154,
     "metadata": {},
     "output_type": "execute_result"
    }
   ],
   "source": [
    "d3"
   ]
  },
  {
   "cell_type": "code",
   "execution_count": 1,
   "id": "f9bc7b88",
   "metadata": {},
   "outputs": [
    {
     "ename": "SyntaxError",
     "evalue": "invalid syntax (Temp/ipykernel_9140/3200421192.py, line 1)",
     "output_type": "error",
     "traceback": [
      "\u001b[1;36m  File \u001b[1;32m\"C:\\Users\\hp\\AppData\\Local\\Temp/ipykernel_9140/3200421192.py\"\u001b[1;36m, line \u001b[1;32m1\u001b[0m\n\u001b[1;33m    d = {'name' : \"Krish\", \"mo_no\" : 9945854464, 'mail_id' : 'krishnasutar2609@gmail.com'. 'key1' : [2,23,4,5], 'key2': {2,3,4,5,6}, 'key3' : (2,5,6,84)}\u001b[0m\n\u001b[1;37m                                                                                           ^\u001b[0m\n\u001b[1;31mSyntaxError\u001b[0m\u001b[1;31m:\u001b[0m invalid syntax\n"
     ]
    }
   ],
   "source": [
    "d = {'name' : \"Krish\", \"mo_no\" : 9945854464, 'mail_id' : 'krishnasutar2609@gmail.com'. 'key1' : [2,23,4,5], 'key2': {2,3,4,5,6}, 'key3' : (2,5,6,84)} "
   ]
  },
  {
   "cell_type": "code",
   "execution_count": 32,
   "id": "eec564ea",
   "metadata": {},
   "outputs": [],
   "source": [
    "d = {'name' : \"Krish\", \"mo_no\" : 9945854464, 'mail_id' : 'krishnasutar2609@gmail.com', 'key1' : [2,23,4,5], 'key2': {2,3,4,5,6}, 'key3' : (2,5,6,84)} "
   ]
  },
  {
   "cell_type": "code",
   "execution_count": 34,
   "id": "0f41bec1",
   "metadata": {},
   "outputs": [],
   "source": [
    "d6 = {'name' : \"Krish\", \"mo_no\" : 9945854464, 'mail_id' : 'krishnasutar2609@gmail.com', 'key1' : [2,23,4,5], 'key2': {2,3,4,5,6}, 'key3' : (2,5,6,84), 'key4': {1:3, 5:6}}"
   ]
  },
  {
   "cell_type": "code",
   "execution_count": 4,
   "id": "750f2d7e",
   "metadata": {},
   "outputs": [],
   "source": [
    "d = {'key1' : 'sudh', 'key2' : [1,2,3,4]}"
   ]
  },
  {
   "cell_type": "code",
   "execution_count": 5,
   "id": "3c4eed99",
   "metadata": {},
   "outputs": [
    {
     "data": {
      "text/plain": [
       "{'key1': 'sudh', 'key2': [1, 2, 3, 4]}"
      ]
     },
     "execution_count": 5,
     "metadata": {},
     "output_type": "execute_result"
    }
   ],
   "source": [
    "d"
   ]
  },
  {
   "cell_type": "code",
   "execution_count": 7,
   "id": "ce2d8b7b",
   "metadata": {},
   "outputs": [],
   "source": [
    "d['key3'] = 'kumar'"
   ]
  },
  {
   "cell_type": "code",
   "execution_count": 8,
   "id": "186441ca",
   "metadata": {},
   "outputs": [
    {
     "data": {
      "text/plain": [
       "{'key1': 'sudh', 'key2': [1, 2, 3, 4], 'key3': 'kumar'}"
      ]
     },
     "execution_count": 8,
     "metadata": {},
     "output_type": "execute_result"
    }
   ],
   "source": [
    "d"
   ]
  },
  {
   "cell_type": "code",
   "execution_count": 11,
   "id": "0e8e1b1d",
   "metadata": {},
   "outputs": [],
   "source": [
    "d['key1'] = 'krish'"
   ]
  },
  {
   "cell_type": "code",
   "execution_count": 12,
   "id": "bb101a90",
   "metadata": {},
   "outputs": [
    {
     "data": {
      "text/plain": [
       "{'key1': 'krish', 'key2': [1, 2, 3, 4], 'key3': 'kumar', 'key': 'krish'}"
      ]
     },
     "execution_count": 12,
     "metadata": {},
     "output_type": "execute_result"
    }
   ],
   "source": [
    "d"
   ]
  },
  {
   "cell_type": "code",
   "execution_count": 13,
   "id": "0ff66230",
   "metadata": {},
   "outputs": [],
   "source": [
    "del d['key1']"
   ]
  },
  {
   "cell_type": "code",
   "execution_count": 14,
   "id": "a8c73e3a",
   "metadata": {},
   "outputs": [
    {
     "data": {
      "text/plain": [
       "{'key2': [1, 2, 3, 4], 'key3': 'kumar', 'key': 'krish'}"
      ]
     },
     "execution_count": 14,
     "metadata": {},
     "output_type": "execute_result"
    }
   ],
   "source": [
    "d"
   ]
  },
  {
   "cell_type": "code",
   "execution_count": 15,
   "id": "6231f9d4",
   "metadata": {},
   "outputs": [],
   "source": [
    "del d"
   ]
  },
  {
   "cell_type": "code",
   "execution_count": 16,
   "id": "321b535f",
   "metadata": {},
   "outputs": [
    {
     "ename": "NameError",
     "evalue": "name 'd' is not defined",
     "output_type": "error",
     "traceback": [
      "\u001b[1;31m---------------------------------------------------------------------------\u001b[0m",
      "\u001b[1;31mNameError\u001b[0m                                 Traceback (most recent call last)",
      "\u001b[1;32m~\\AppData\\Local\\Temp/ipykernel_9140/3161387801.py\u001b[0m in \u001b[0;36m<module>\u001b[1;34m\u001b[0m\n\u001b[1;32m----> 1\u001b[1;33m \u001b[0md\u001b[0m\u001b[1;33m\u001b[0m\u001b[1;33m\u001b[0m\u001b[0m\n\u001b[0m",
      "\u001b[1;31mNameError\u001b[0m: name 'd' is not defined"
     ]
    }
   ],
   "source": [
    "d"
   ]
  },
  {
   "cell_type": "code",
   "execution_count": 17,
   "id": "8f5e171d",
   "metadata": {},
   "outputs": [],
   "source": [
    "d1 = {'key1' : 'sudh', 'key2' : [4,5,6,7,7]}"
   ]
  },
  {
   "cell_type": "code",
   "execution_count": 20,
   "id": "147fe289",
   "metadata": {},
   "outputs": [
    {
     "ename": "TypeError",
     "evalue": "unhashable type: 'list'",
     "output_type": "error",
     "traceback": [
      "\u001b[1;31m---------------------------------------------------------------------------\u001b[0m",
      "\u001b[1;31mTypeError\u001b[0m                                 Traceback (most recent call last)",
      "\u001b[1;32m~\\AppData\\Local\\Temp/ipykernel_9140/1932803999.py\u001b[0m in \u001b[0;36m<module>\u001b[1;34m\u001b[0m\n\u001b[1;32m----> 1\u001b[1;33m \u001b[0md1\u001b[0m\u001b[1;33m[\u001b[0m\u001b[1;33m[\u001b[0m\u001b[1;36m1\u001b[0m\u001b[1;33m,\u001b[0m\u001b[1;36m2\u001b[0m\u001b[1;33m,\u001b[0m\u001b[1;36m3\u001b[0m\u001b[1;33m,\u001b[0m\u001b[1;36m4\u001b[0m\u001b[1;33m]\u001b[0m\u001b[1;33m]\u001b[0m \u001b[1;33m=\u001b[0m \u001b[1;34m'molex'\u001b[0m\u001b[1;33m\u001b[0m\u001b[1;33m\u001b[0m\u001b[0m\n\u001b[0m",
      "\u001b[1;31mTypeError\u001b[0m: unhashable type: 'list'"
     ]
    }
   ],
   "source": [
    "d1[[1,2,3,4]] = 'molex'"
   ]
  },
  {
   "cell_type": "code",
   "execution_count": 21,
   "id": "eb477996",
   "metadata": {},
   "outputs": [],
   "source": [
    "d1[(1,2,3,4)] = 'molex'"
   ]
  },
  {
   "cell_type": "code",
   "execution_count": 23,
   "id": "7a6c549f",
   "metadata": {},
   "outputs": [
    {
     "data": {
      "text/plain": [
       "{'key1': 'sudh', 'key2': [4, 5, 6, 7, 7], (1, 2, 3, 4): 'molex'}"
      ]
     },
     "execution_count": 23,
     "metadata": {},
     "output_type": "execute_result"
    }
   ],
   "source": [
    "d1"
   ]
  },
  {
   "cell_type": "code",
   "execution_count": 24,
   "id": "56345da0",
   "metadata": {},
   "outputs": [
    {
     "data": {
      "text/plain": [
       "'sudh'"
      ]
     },
     "execution_count": 24,
     "metadata": {},
     "output_type": "execute_result"
    }
   ],
   "source": [
    "d1.get(\"key1\")"
   ]
  },
  {
   "cell_type": "code",
   "execution_count": 25,
   "id": "c50a78a1",
   "metadata": {},
   "outputs": [],
   "source": [
    "d1 = {'key1' : 'molex', 'key' : 'fsds'}"
   ]
  },
  {
   "cell_type": "code",
   "execution_count": 26,
   "id": "b2a3c6ea",
   "metadata": {},
   "outputs": [],
   "source": [
    "d2 = {'key2' : 456, 'key3' : [1,2,3,45]}"
   ]
  },
  {
   "cell_type": "code",
   "execution_count": 27,
   "id": "2afc811a",
   "metadata": {},
   "outputs": [],
   "source": [
    "d1.update(d2)"
   ]
  },
  {
   "cell_type": "code",
   "execution_count": 28,
   "id": "18fea400",
   "metadata": {},
   "outputs": [
    {
     "data": {
      "text/plain": [
       "{'key1': 'molex', 'key': 'fsds', 'key2': 456, 'key3': [1, 2, 3, 45]}"
      ]
     },
     "execution_count": 28,
     "metadata": {},
     "output_type": "execute_result"
    }
   ],
   "source": [
    "d1"
   ]
  },
  {
   "cell_type": "code",
   "execution_count": 29,
   "id": "975b6425",
   "metadata": {},
   "outputs": [
    {
     "data": {
      "text/plain": [
       "{'key2': 456, 'key3': [1, 2, 3, 45]}"
      ]
     },
     "execution_count": 29,
     "metadata": {},
     "output_type": "execute_result"
    }
   ],
   "source": [
    "d2"
   ]
  },
  {
   "cell_type": "code",
   "execution_count": 30,
   "id": "81349106",
   "metadata": {},
   "outputs": [
    {
     "ename": "TypeError",
     "evalue": "unsupported operand type(s) for +: 'dict' and 'dict'",
     "output_type": "error",
     "traceback": [
      "\u001b[1;31m---------------------------------------------------------------------------\u001b[0m",
      "\u001b[1;31mTypeError\u001b[0m                                 Traceback (most recent call last)",
      "\u001b[1;32m~\\AppData\\Local\\Temp/ipykernel_9140/833095442.py\u001b[0m in \u001b[0;36m<module>\u001b[1;34m\u001b[0m\n\u001b[1;32m----> 1\u001b[1;33m \u001b[0md1\u001b[0m\u001b[1;33m+\u001b[0m\u001b[0md2\u001b[0m\u001b[1;33m\u001b[0m\u001b[1;33m\u001b[0m\u001b[0m\n\u001b[0m",
      "\u001b[1;31mTypeError\u001b[0m: unsupported operand type(s) for +: 'dict' and 'dict'"
     ]
    }
   ],
   "source": [
    "d1+d2"
   ]
  },
  {
   "cell_type": "code",
   "execution_count": 35,
   "id": "8472bd9b",
   "metadata": {},
   "outputs": [
    {
     "data": {
      "text/plain": [
       "{'name': 'Krish',\n",
       " 'mo_no': 9945854464,\n",
       " 'mail_id': 'krishnasutar2609@gmail.com',\n",
       " 'key1': [2, 23, 4, 5],\n",
       " 'key2': {2, 3, 4, 5, 6},\n",
       " 'key3': (2, 5, 6, 84),\n",
       " 'key4': {1: 3, 5: 6}}"
      ]
     },
     "execution_count": 35,
     "metadata": {},
     "output_type": "execute_result"
    }
   ],
   "source": [
    "d6"
   ]
  },
  {
   "cell_type": "code",
   "execution_count": 36,
   "id": "059815da",
   "metadata": {},
   "outputs": [],
   "source": [
    "d7 = {'name' : \"Krish\",\n",
    "      \"mo_no\" : 9945854464,\n",
    "      'mail_id' : 'krishnasutar2609@gmail.com',\n",
    "      'key1' : [2,23,4,5],\n",
    "      'key2': {2,3,4,5,6},\n",
    "      'key3' : (2,5,6,84),\n",
    "      'key4': {1:3, 5:6}}"
   ]
  },
  {
   "cell_type": "code",
   "execution_count": 37,
   "id": "ca8a96fa",
   "metadata": {},
   "outputs": [
    {
     "data": {
      "text/plain": [
       "{'name': 'Krish',\n",
       " 'mo_no': 9945854464,\n",
       " 'mail_id': 'krishnasutar2609@gmail.com',\n",
       " 'key1': [2, 23, 4, 5],\n",
       " 'key2': {2, 3, 4, 5, 6},\n",
       " 'key3': (2, 5, 6, 84),\n",
       " 'key4': {1: 3, 5: 6}}"
      ]
     },
     "execution_count": 37,
     "metadata": {},
     "output_type": "execute_result"
    }
   ],
   "source": [
    "d7"
   ]
  },
  {
   "cell_type": "code",
   "execution_count": 38,
   "id": "8e9224ff",
   "metadata": {},
   "outputs": [
    {
     "data": {
      "text/plain": [
       "{'key1': 'molex', 'key': 'fsds', 'key2': 456, 'key3': [1, 2, 3, 45]}"
      ]
     },
     "execution_count": 38,
     "metadata": {},
     "output_type": "execute_result"
    }
   ],
   "source": [
    "d1"
   ]
  },
  {
   "cell_type": "code",
   "execution_count": 39,
   "id": "fb5e190a",
   "metadata": {},
   "outputs": [
    {
     "data": {
      "text/plain": [
       "{'key2': 456, 'key3': [1, 2, 3, 45]}"
      ]
     },
     "execution_count": 39,
     "metadata": {},
     "output_type": "execute_result"
    }
   ],
   "source": [
    "d2"
   ]
  },
  {
   "cell_type": "code",
   "execution_count": 40,
   "id": "8b126424",
   "metadata": {},
   "outputs": [
    {
     "data": {
      "text/plain": [
       "'molex'"
      ]
     },
     "execution_count": 40,
     "metadata": {},
     "output_type": "execute_result"
    }
   ],
   "source": [
    "d1['key1']"
   ]
  },
  {
   "cell_type": "code",
   "execution_count": 41,
   "id": "0abdb215",
   "metadata": {},
   "outputs": [
    {
     "data": {
      "text/plain": [
       "'molex'"
      ]
     },
     "execution_count": 41,
     "metadata": {},
     "output_type": "execute_result"
    }
   ],
   "source": [
    "d1.get('key1')"
   ]
  },
  {
   "cell_type": "code",
   "execution_count": 42,
   "id": "5114c6a4",
   "metadata": {},
   "outputs": [
    {
     "data": {
      "text/plain": [
       "{'key1': 'molex', 'key': 'fsds', 'key2': 456, 'key3': [1, 2, 3, 45]}"
      ]
     },
     "execution_count": 42,
     "metadata": {},
     "output_type": "execute_result"
    }
   ],
   "source": [
    "d1"
   ]
  },
  {
   "cell_type": "code",
   "execution_count": 43,
   "id": "9b06ac1a",
   "metadata": {},
   "outputs": [
    {
     "data": {
      "text/plain": [
       "{'key2': 456, 'key3': [1, 2, 3, 45]}"
      ]
     },
     "execution_count": 43,
     "metadata": {},
     "output_type": "execute_result"
    }
   ],
   "source": [
    "d2"
   ]
  },
  {
   "cell_type": "code",
   "execution_count": 44,
   "id": "7e800b40",
   "metadata": {},
   "outputs": [],
   "source": [
    "key = ('name', 'mobile_no', 'email.id')\n",
    "value = 'sudh'"
   ]
  },
  {
   "cell_type": "code",
   "execution_count": 45,
   "id": "81fa476f",
   "metadata": {},
   "outputs": [],
   "source": [
    "d = d2.fromkeys(key,value)"
   ]
  },
  {
   "cell_type": "code",
   "execution_count": 46,
   "id": "804ebbab",
   "metadata": {},
   "outputs": [
    {
     "data": {
      "text/plain": [
       "{'name': 'sudh', 'mobile_no': 'sudh', 'email.id': 'sudh'}"
      ]
     },
     "execution_count": 46,
     "metadata": {},
     "output_type": "execute_result"
    }
   ],
   "source": [
    "d"
   ]
  },
  {
   "cell_type": "code",
   "execution_count": 47,
   "id": "0fe2479b",
   "metadata": {},
   "outputs": [
    {
     "data": {
      "text/plain": [
       "{'key2': 456, 'key3': [1, 2, 3, 45]}"
      ]
     },
     "execution_count": 47,
     "metadata": {},
     "output_type": "execute_result"
    }
   ],
   "source": [
    "d2"
   ]
  },
  {
   "cell_type": "code",
   "execution_count": 48,
   "id": "114ac7c4",
   "metadata": {},
   "outputs": [
    {
     "ename": "SyntaxError",
     "evalue": "invalid syntax (Temp/ipykernel_9140/796671574.py, line 1)",
     "output_type": "error",
     "traceback": [
      "\u001b[1;36m  File \u001b[1;32m\"C:\\Users\\hp\\AppData\\Local\\Temp/ipykernel_9140/796671574.py\"\u001b[1;36m, line \u001b[1;32m1\u001b[0m\n\u001b[1;33m    *\u001b[0m\n\u001b[1;37m     ^\u001b[0m\n\u001b[1;31mSyntaxError\u001b[0m\u001b[1;31m:\u001b[0m invalid syntax\n"
     ]
    }
   ],
   "source": [
    "*"
   ]
  },
  {
   "cell_type": "code",
   "execution_count": 49,
   "id": "9855cea2",
   "metadata": {},
   "outputs": [
    {
     "data": {
      "text/plain": [
       "'hello'"
      ]
     },
     "execution_count": 49,
     "metadata": {},
     "output_type": "execute_result"
    }
   ],
   "source": [
    "'hello'"
   ]
  },
  {
   "cell_type": "code",
   "execution_count": null,
   "id": "94e9c42b",
   "metadata": {},
   "outputs": [],
   "source": []
  }
 ],
 "metadata": {
  "kernelspec": {
   "display_name": "Python 3 (ipykernel)",
   "language": "python",
   "name": "python3"
  },
  "language_info": {
   "codemirror_mode": {
    "name": "ipython",
    "version": 3
   },
   "file_extension": ".py",
   "mimetype": "text/x-python",
   "name": "python",
   "nbconvert_exporter": "python",
   "pygments_lexer": "ipython3",
   "version": "3.9.7"
  }
 },
 "nbformat": 4,
 "nbformat_minor": 5
}

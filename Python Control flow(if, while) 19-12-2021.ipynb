{
 "cells": [
  {
   "cell_type": "code",
   "execution_count": null,
   "id": "8d70c583",
   "metadata": {},
   "outputs": [],
   "source": [
    "a=10"
   ]
  },
  {
   "cell_type": "code",
   "execution_count": null,
   "id": "680f3a6d",
   "metadata": {},
   "outputs": [],
   "source": [
    "if a < 15:\n",
    "    pass"
   ]
  },
  {
   "cell_type": "code",
   "execution_count": null,
   "id": "79316fa8",
   "metadata": {},
   "outputs": [],
   "source": [
    "a < 15"
   ]
  },
  {
   "cell_type": "code",
   "execution_count": null,
   "id": "3e2b51de",
   "metadata": {},
   "outputs": [],
   "source": [
    "if a < 15:\n",
    "    print (\"my name is krish\")"
   ]
  },
  {
   "cell_type": "code",
   "execution_count": null,
   "id": "2cbf30ee",
   "metadata": {},
   "outputs": [],
   "source": [
    "if 24 < 15:\n",
    "    print (\"my name is krish\")"
   ]
  },
  {
   "cell_type": "code",
   "execution_count": null,
   "id": "713fc0e3",
   "metadata": {},
   "outputs": [],
   "source": [
    "24 < 15"
   ]
  },
  {
   "cell_type": "code",
   "execution_count": null,
   "id": "27c5808f",
   "metadata": {},
   "outputs": [],
   "source": [
    "if 10 < 3: \n",
    "    print (\"10 is lesser then 3\")\n",
    "else:\n",
    "    print (\"if statement is wrong\")\n",
    "    "
   ]
  },
  {
   "cell_type": "code",
   "execution_count": null,
   "id": "2f0cd510",
   "metadata": {},
   "outputs": [],
   "source": [
    "if 5 < 10: \n",
    "    print (\"10 is lesser then 3\")\n",
    "else:\n",
    "    print (\"if statement is wrong\")"
   ]
  },
  {
   "cell_type": "code",
   "execution_count": null,
   "id": "1b68d0bc",
   "metadata": {},
   "outputs": [],
   "source": [
    "income = int(input())\n",
    "if income < 50 :\n",
    "    print(\"i will be able to buy phone\")\n",
    "elif income < 70 :\n",
    "    print(\"i will be able to buy car\")\n",
    "elif income < 90 :\n",
    "    print(\" i will be able to rent a house\")\n",
    "else :\n",
    "    print(\"i wont be able to buy anything\")"
   ]
  },
  {
   "cell_type": "code",
   "execution_count": null,
   "id": "bfcf19dd",
   "metadata": {},
   "outputs": [],
   "source": [
    "Total_price = int(input())\n",
    "if Total_price > 20000 :\n",
    "    discount = Total_price * .20\n",
    "    print(\"discount will be\" , discount)\n",
    "elif Total_price <= 7000:\n",
    "    discount = Total_price * 0.05\n",
    "    print(\"discount will be\" , discount)\n",
    "else :\n",
    "    print(\"wont be able to give any discount\")"
   ]
  },
  {
   "cell_type": "code",
   "execution_count": null,
   "id": "f327539b",
   "metadata": {},
   "outputs": [],
   "source": [
    "coup = input()\n",
    "if coup == \"SUDHANSHU5\":\n",
    "    print(\"you will be able to get a discount of 5% \")\n",
    "    paid_amount = 7080-7080 * 0.05\n",
    "    print(\"you will ve able to get one neuron with this amount\" , paid_amount )\n",
    "else:\n",
    "    print(\"kindly use a valid coupon code\")"
   ]
  },
  {
   "cell_type": "code",
   "execution_count": null,
   "id": "78444b61",
   "metadata": {},
   "outputs": [],
   "source": [
    "\"sudh\" == \"sudh\""
   ]
  },
  {
   "cell_type": "code",
   "execution_count": null,
   "id": "f1f9fe44",
   "metadata": {},
   "outputs": [],
   "source": [
    "study_hour = int(input())\n",
    "if study_hour < 1:\n",
    "    print(\"it may take  8-9 month of time to make a transition\")\n",
    "elif study_hour < 4 and study_hour > 1:\n",
    "    print(\"it may take 6 month for transition\")\n",
    "elif study_hour > 10:\n",
    "    print(\"it will take 3 month of time for transition\")\n",
    "else :\n",
    "    print(\"it will be difficult\")"
   ]
  },
  {
   "cell_type": "code",
   "execution_count": null,
   "id": "eb58a2d8",
   "metadata": {},
   "outputs": [],
   "source": [
    "a = 9\n",
    "if a == 9 :\n",
    "    print('valid')"
   ]
  },
  {
   "cell_type": "code",
   "execution_count": 3,
   "id": "fb2bff15",
   "metadata": {},
   "outputs": [
    {
     "name": "stdout",
     "output_type": "stream",
     "text": [
      "enter string name to startcourse\n",
      "enter course nameDSA\n",
      "enter service nameModule\n",
      "kindly connect with our team\n"
     ]
    }
   ],
   "source": [
    "s = input(\"enter string name to start\")\n",
    "course = input(\"enter course name\")\n",
    "service = input(\"enter service name\")\n",
    "if s == \"oneneuron\" :\n",
    "    if course == \"DSA\":\n",
    "        print(\"yes its available under one neuron and in mulptiple mode for job preparation and core concept\")\n",
    "    elif course == \"Blockchain\" :\n",
    "        print(\"this is not available as of now, kindly raise your demand and we will fulfill in 60 days\")\n",
    "    elif course == \"FSDS\" :\n",
    "        print(\"yes its available, you can start learning\")\n",
    "    else :\n",
    "        print(\"this course is not available kindly raise your demand\")\n",
    "elif s == \"oneneuronservice\" :\n",
    "    if service == \"courserequest\":\n",
    "        print(\"Note: 60 days\")\n",
    "    elif course == \"Module\" :\n",
    "        print(\"raise demand\")\n",
    "    elif course == \"Doubt\" :\n",
    "        print(\"Note: 30 days\")\n",
    "    else :\n",
    "        print(\"this course is not available kindly raise your demand\")\n",
    "else:\n",
    "    print(\"kindly connect with our team\")\n"
   ]
  },
  {
   "cell_type": "code",
   "execution_count": null,
   "id": "a9857b22",
   "metadata": {},
   "outputs": [],
   "source": []
  },
  {
   "cell_type": "code",
   "execution_count": 1,
   "id": "9afd988d",
   "metadata": {},
   "outputs": [
    {
     "name": "stdout",
     "output_type": "stream",
     "text": [
      "2\n",
      "it may take 6 month for transition\n"
     ]
    }
   ],
   "source": [
    "study_hour = int(input())\n",
    "if study_hour < 1:\n",
    "    print(\"it may take  8-9 month of time to make a transition\")\n",
    "elif study_hour < 4 and study_hour > 1:\n",
    "    print(\"it may take 6 month for transition\")\n",
    "elif study_hour > 10:\n",
    "    print(\"it will take 3 month of time for transition\")\n",
    "else :\n",
    "    print(\"it will be difficult\")"
   ]
  },
  {
   "cell_type": "code",
   "execution_count": 9,
   "id": "d368e842",
   "metadata": {},
   "outputs": [
    {
     "name": "stdout",
     "output_type": "stream",
     "text": [
      "enter string name to start\n",
      "enter course name\n",
      "enter service name\n",
      "kindly connect with our team\n"
     ]
    }
   ],
   "source": [
    "s = input(\"enter string name to start\")\n",
    "course = input(\"enter course name\")\n",
    "service = input(\"enter service name\")\n",
    "if s == \"oneneuron\" :\n",
    "    if course == \"DSA\":\n",
    "        print(\"yes its available under one neuron and in mulptiple mode for job preparation and core concept\")\n",
    "    elif course == \"Blockchain\" :\n",
    "        print(\"this is not available as of now, kindly raise your demand and we will fulfill in 60 days\")\n",
    "    elif course == \"FSDS\" :\n",
    "        print(\"yes its available, you can start learning\")\n",
    "    else :\n",
    "        print(\"this course is not available kindly raise your demand\")\n",
    "elif s == \"oneneuronservice\" :\n",
    "    if service == \"courserequest\":\n",
    "        print(\"Note: 60 days\")\n",
    "    elif course == \"Module\" :\n",
    "        print(\"raise demand\")\n",
    "    elif course == \"Doubt\" :\n",
    "        print(\"Note: 30 days\")\n",
    "    else :\n",
    "        print(\"this course is not available kindly raise your demand\")\n",
    "else:\n",
    "    print(\"kindly connect with our team\")"
   ]
  },
  {
   "cell_type": "code",
   "execution_count": 14,
   "id": "75b72fc4",
   "metadata": {},
   "outputs": [
    {
     "name": "stdout",
     "output_type": "stream",
     "text": [
      "1\n",
      "2\n",
      "3\n",
      "4\n",
      "5\n",
      "6\n",
      "7\n"
     ]
    }
   ],
   "source": [
    "Krish = [1,2,3,4,5,6,7]\n",
    "for i in Krish :\n",
    "    print(i)"
   ]
  },
  {
   "cell_type": "code",
   "execution_count": 15,
   "id": "21189dbd",
   "metadata": {},
   "outputs": [
    {
     "name": "stdout",
     "output_type": "stream",
     "text": [
      "K\n",
      "r\n",
      "i\n",
      "s\n",
      "h\n"
     ]
    }
   ],
   "source": [
    "s = \"Krish\"\n",
    "for i in s:\n",
    "    print(i)"
   ]
  },
  {
   "cell_type": "code",
   "execution_count": 17,
   "id": "d76640e4",
   "metadata": {},
   "outputs": [
    {
     "name": "stdout",
     "output_type": "stream",
     "text": [
      "K\n",
      "r\n",
      "i\n",
      "s\n",
      "h\n"
     ]
    }
   ],
   "source": [
    "for i in \"Krish\":\n",
    "    print(i)"
   ]
  },
  {
   "cell_type": "code",
   "execution_count": 18,
   "id": "0a7e2eea",
   "metadata": {},
   "outputs": [],
   "source": [
    "t = (1,2,3,4,5,6)"
   ]
  },
  {
   "cell_type": "code",
   "execution_count": 19,
   "id": "38fcf2b1",
   "metadata": {},
   "outputs": [
    {
     "name": "stdout",
     "output_type": "stream",
     "text": [
      "1\n",
      "2\n",
      "3\n",
      "4\n",
      "5\n",
      "6\n"
     ]
    }
   ],
   "source": [
    "for i in t:\n",
    "    print(i)"
   ]
  },
  {
   "cell_type": "code",
   "execution_count": 31,
   "id": "7476d097",
   "metadata": {},
   "outputs": [
    {
     "name": "stdout",
     "output_type": "stream",
     "text": [
      "<class 'int'> type of 1\n",
      "<class 'int'> type of 4\n",
      "<class 'float'> type of 5.6\n",
      "<class 'complex'> type of (4+7j)\n",
      "<class 'str'> type of sudh\n"
     ]
    }
   ],
   "source": [
    "l1 = [1,4,5.6,4+7j, \"sudh\"]\n",
    "for i in l1:\n",
    "    print(type(i), \"type of\" , i)"
   ]
  },
  {
   "cell_type": "code",
   "execution_count": 30,
   "id": "6479ba48",
   "metadata": {},
   "outputs": [
    {
     "data": {
      "text/plain": [
       "str"
      ]
     },
     "execution_count": 30,
     "metadata": {},
     "output_type": "execute_result"
    }
   ],
   "source": [
    "type(\"sudh\")"
   ]
  },
  {
   "cell_type": "code",
   "execution_count": 33,
   "id": "77ae67c7",
   "metadata": {},
   "outputs": [
    {
     "name": "stdout",
     "output_type": "stream",
     "text": [
      "<class 'int'>\n",
      "<class 'int'>\n",
      "<class 'float'>\n",
      "<class 'complex'>\n",
      "<class 'str'>\n"
     ]
    }
   ],
   "source": [
    "l1 = [1,4,5.6,4+7j, \"sudh\"]\n",
    "for i in l1:\n",
    "    print(type(i))\n"
   ]
  },
  {
   "cell_type": "code",
   "execution_count": 1,
   "id": "255762ab",
   "metadata": {},
   "outputs": [
    {
     "name": "stdout",
     "output_type": "stream",
     "text": [
      "3\n",
      "6\n",
      "7.6\n"
     ]
    }
   ],
   "source": [
    "l2 = [1,4,5.6]\n",
    "l3 = []\n",
    "for i in l2 :\n",
    "    print(i+2)\n",
    "    l3.append(i+2)"
   ]
  },
  {
   "cell_type": "code",
   "execution_count": 2,
   "id": "b82baa01",
   "metadata": {},
   "outputs": [
    {
     "name": "stdout",
     "output_type": "stream",
     "text": [
      "2\n",
      "45\n",
      "78\n",
      "12\n"
     ]
    }
   ],
   "source": [
    "l = [2,45,78,12, \"sudh\", 6+7j, [56,67,78]]\n",
    "for i in l:\n",
    "    if type(i) == int:\n",
    "        print(i)"
   ]
  },
  {
   "cell_type": "code",
   "execution_count": 4,
   "id": "d3e76afe",
   "metadata": {},
   "outputs": [
    {
     "name": "stdout",
     "output_type": "stream",
     "text": [
      "(6+7j)\n"
     ]
    }
   ],
   "source": [
    "l = [2,45,78,12, \"sudh\", 6+7j, [56,67,78]]\n",
    "for i in l:\n",
    "    if type(i) == complex:\n",
    "        print(i)"
   ]
  },
  {
   "cell_type": "code",
   "execution_count": 6,
   "id": "b5190b68",
   "metadata": {},
   "outputs": [
    {
     "data": {
      "text/plain": [
       "bool"
      ]
     },
     "execution_count": 6,
     "metadata": {},
     "output_type": "execute_result"
    }
   ],
   "source": [
    "type(True)"
   ]
  },
  {
   "cell_type": "code",
   "execution_count": 15,
   "id": "d3e1694c",
   "metadata": {},
   "outputs": [
    {
     "name": "stdout",
     "output_type": "stream",
     "text": [
      "2\n",
      "45\n",
      "78\n",
      "12\n",
      "56\n",
      "67\n",
      "78\n"
     ]
    }
   ],
   "source": [
    "l = [2,45,78,12, \"sudh\", 6+7j, [56,67,78]]\n",
    "for i in l:\n",
    "    if type(i) == int:\n",
    "        print(i)\n",
    "    elif type(i) == list:\n",
    "        for j in i:\n",
    "            if type(j) == int:\n",
    "                print(j)"
   ]
  },
  {
   "cell_type": "code",
   "execution_count": 28,
   "id": "b329cae5",
   "metadata": {},
   "outputs": [],
   "source": [
    "l = [2,45,78,12,\"sudh\" , 6+7j,[56,67,78,\"dsfdsf\"]]"
   ]
  },
  {
   "cell_type": "code",
   "execution_count": 23,
   "id": "c11fed61",
   "metadata": {},
   "outputs": [
    {
     "name": "stdout",
     "output_type": "stream",
     "text": [
      "sudh\n"
     ]
    }
   ],
   "source": [
    "for i in l:\n",
    "    if type(i) == str:\n",
    "        print(i)"
   ]
  },
  {
   "cell_type": "code",
   "execution_count": null,
   "id": "73f96534",
   "metadata": {},
   "outputs": [],
   "source": [
    "for i in l:\n",
    "    if type(i) == list:\n",
    "        print"
   ]
  },
  {
   "cell_type": "code",
   "execution_count": 26,
   "id": "1adf9440",
   "metadata": {},
   "outputs": [
    {
     "data": {
      "text/plain": [
       "range(0, 4)"
      ]
     },
     "execution_count": 26,
     "metadata": {},
     "output_type": "execute_result"
    }
   ],
   "source": [
    "range(4)"
   ]
  },
  {
   "cell_type": "code",
   "execution_count": 2,
   "id": "75a90a5b",
   "metadata": {},
   "outputs": [],
   "source": [
    "l = [2,45,78,12,\"sudh\" , 6+7j,[56,67,78,\"dsfdsf\"]]"
   ]
  },
  {
   "cell_type": "code",
   "execution_count": 3,
   "id": "5054164d",
   "metadata": {},
   "outputs": [
    {
     "name": "stdout",
     "output_type": "stream",
     "text": [
      "index 0 for an element 2\n",
      "index 1 for an element 45\n",
      "index 2 for an element 78\n",
      "index 3 for an element 12\n",
      "index 4 for an element sudh\n",
      "index 5 for an element (6+7j)\n",
      "index 6 for an element [56, 67, 78, 'dsfdsf']\n"
     ]
    }
   ],
   "source": [
    "for i in range(len(l)):\n",
    "    print(\"index\", i, \"for an element\", l[i])"
   ]
  },
  {
   "cell_type": "code",
   "execution_count": 4,
   "id": "38e13aab",
   "metadata": {},
   "outputs": [
    {
     "name": "stdout",
     "output_type": "stream",
     "text": [
      "0 2\n",
      "1 45\n",
      "2 78\n",
      "3 12\n",
      "4 sudh\n",
      "5 (6+7j)\n",
      "6 [56, 67, 78, 'dsfdsf']\n"
     ]
    }
   ],
   "source": [
    "for i,j in enumerate(l):\n",
    "    print(i, j)"
   ]
  },
  {
   "cell_type": "code",
   "execution_count": 6,
   "id": "dee915f6",
   "metadata": {},
   "outputs": [
    {
     "data": {
      "text/plain": [
       "[2, 45, 78, 12, 'sudh', (6+7j), [56, 67, 78, 'dsfdsf']]"
      ]
     },
     "execution_count": 6,
     "metadata": {},
     "output_type": "execute_result"
    }
   ],
   "source": [
    "l"
   ]
  },
  {
   "cell_type": "code",
   "execution_count": 5,
   "id": "7d9f092e",
   "metadata": {},
   "outputs": [
    {
     "name": "stdout",
     "output_type": "stream",
     "text": [
      "['s']\n",
      "['s', 'u']\n",
      "['s', 'u', 'd']\n",
      "['s', 'u', 'd', 'h']\n"
     ]
    }
   ],
   "source": [
    "for i in l:\n",
    "    if type(i) == str:\n",
    "        l1 = []\n",
    "        for j in i :\n",
    "            l1.append(j)\n",
    "            print(l1)"
   ]
  },
  {
   "cell_type": "code",
   "execution_count": 45,
   "id": "9f026e3a",
   "metadata": {},
   "outputs": [],
   "source": [
    "l = [2,45,78,12,\"sudh\" , 6+7j,[56,67,78,\"dsfdsf\"]]"
   ]
  },
  {
   "cell_type": "code",
   "execution_count": 46,
   "id": "d7f2acc5",
   "metadata": {},
   "outputs": [
    {
     "name": "stdout",
     "output_type": "stream",
     "text": [
      "['s']\n",
      "['s', 'u']\n",
      "['s', 'u', 'd']\n",
      "['s', 'u', 'd', 'h']\n"
     ]
    }
   ],
   "source": [
    "for i in l:\n",
    "    if type(i) == str:\n",
    "        l1 = []\n",
    "        for j in i :\n",
    "            print(l1)"
   ]
  },
  {
   "cell_type": "code",
   "execution_count": 47,
   "id": "cf9878f1",
   "metadata": {},
   "outputs": [],
   "source": [
    "l = [2,45,78,12,\"sudh\" , 6+7j,[56,67,78,\"dsfdsf\"]]"
   ]
  },
  {
   "cell_type": "code",
   "execution_count": 56,
   "id": "211dd078",
   "metadata": {},
   "outputs": [],
   "source": [
    "l2 =[]\n",
    "for i in l :\n",
    "    if type(i) == int:\n",
    "        l2.append(i**2)"
   ]
  },
  {
   "cell_type": "code",
   "execution_count": 57,
   "id": "3b499293",
   "metadata": {},
   "outputs": [
    {
     "data": {
      "text/plain": [
       "[4, 2025, 6084, 144]"
      ]
     },
     "execution_count": 57,
     "metadata": {},
     "output_type": "execute_result"
    }
   ],
   "source": [
    "l2"
   ]
  },
  {
   "cell_type": "code",
   "execution_count": 60,
   "id": "1066b4a8",
   "metadata": {},
   "outputs": [
    {
     "name": "stdout",
     "output_type": "stream",
     "text": [
      "[]\n",
      "[]\n",
      "[]\n",
      "[]\n"
     ]
    }
   ],
   "source": [
    "for i in l:\n",
    "    if type(i) == str:\n",
    "        l1 = []\n",
    "        for j in i :\n",
    "            print(l1)"
   ]
  },
  {
   "cell_type": "code",
   "execution_count": 61,
   "id": "f3b02a38",
   "metadata": {},
   "outputs": [],
   "source": [
    "l = [2,45,78,12,\"sudh\" , 6+7j,[56,67,78,\"dsfdsf\"]]"
   ]
  },
  {
   "cell_type": "code",
   "execution_count": 68,
   "id": "cb945b21",
   "metadata": {},
   "outputs": [
    {
     "name": "stdout",
     "output_type": "stream",
     "text": [
      "['s', 'u', 'd', 'h']\n"
     ]
    }
   ],
   "source": [
    "for i in l:\n",
    "    if type(i) == str:\n",
    "        l1 = []\n",
    "        for j in i :\n",
    "            l1.append(j)\n",
    "        print(l1)"
   ]
  },
  {
   "cell_type": "code",
   "execution_count": 6,
   "id": "7f0031ff",
   "metadata": {},
   "outputs": [
    {
     "name": "stdout",
     "output_type": "stream",
     "text": [
      "enter string name to startoneneuronservice\n",
      "enter course name\n",
      "enter service namecourserequest\n",
      "Note: 60 days\n"
     ]
    }
   ],
   "source": [
    "s = input(\"enter string name to start\")\n",
    "course = input(\"enter course name\")\n",
    "service = input(\"enter service name\")\n",
    "if s == \"oneneuron\" :\n",
    "    if course == \"DSA\":\n",
    "        print(\"yes its available under one neuron and in mulptiple mode for job preparation and core concept\")\n",
    "    elif course == \"Blockchain\" :\n",
    "        print(\"this is not available as of now, kindly raise your demand and we will fulfill in 60 days\")\n",
    "    elif course == \"FSDS\" :\n",
    "        print(\"yes its available, you can start learning\")\n",
    "    else :\n",
    "        print(\"this course is not available kindly raise your demand\")\n",
    "elif s == \"oneneuronservice\" :\n",
    "    if service == \"courserequest\":\n",
    "        print(\"Note: 60 days\")\n",
    "    elif course == \"Module\" :\n",
    "        print(\"Note: 45 days\")\n",
    "    elif course == \"Doubt\" :\n",
    "        print(\"Note: 30 days\")\n",
    "    else :\n",
    "        print(\"kindly raise your demand\")\n",
    "else:\n",
    "    print(\"kindly connect with our team\")\n",
    "    \n",
    "#I WANT TO THE RESULT SHOULD BE NOTE: 30 days"
   ]
  },
  {
   "cell_type": "code",
   "execution_count": 8,
   "id": "f13cb5ee",
   "metadata": {},
   "outputs": [
    {
     "name": "stdout",
     "output_type": "stream",
     "text": [
      "Krish12\n",
      "kindly use a valid coupon code\n"
     ]
    }
   ],
   "source": [
    "coup = input()\n",
    "if coup == \"SUDHANSHU5\":\n",
    "    print(\"you will be able to get a discount of 5% \")\n",
    "    paid_amount = 7080-7080 * 0.05\n",
    "    print(\"you will ve able to get one neuron with this amount\" , paid_amount )\n",
    "else:\n",
    "    print(\"kindly use a valid coupon code\")"
   ]
  },
  {
   "cell_type": "code",
   "execution_count": null,
   "id": "7fc184b9",
   "metadata": {},
   "outputs": [],
   "source": []
  }
 ],
 "metadata": {
  "kernelspec": {
   "display_name": "Python 3 (ipykernel)",
   "language": "python",
   "name": "python3"
  },
  "language_info": {
   "codemirror_mode": {
    "name": "ipython",
    "version": 3
   },
   "file_extension": ".py",
   "mimetype": "text/x-python",
   "name": "python",
   "nbconvert_exporter": "python",
   "pygments_lexer": "ipython3",
   "version": "3.9.7"
  }
 },
 "nbformat": 4,
 "nbformat_minor": 5
}

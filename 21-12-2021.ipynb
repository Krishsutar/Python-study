{
 "cells": [
  {
   "cell_type": "code",
   "execution_count": 1,
   "id": "e5a5b406",
   "metadata": {},
   "outputs": [
    {
     "data": {
      "text/plain": [
       "26"
      ]
     },
     "execution_count": 1,
     "metadata": {},
     "output_type": "execute_result"
    }
   ],
   "source": [
    "s = \"This is basic python class\"\n",
    "len(s)"
   ]
  },
  {
   "cell_type": "code",
   "execution_count": 3,
   "id": "02e84ce5",
   "metadata": {},
   "outputs": [
    {
     "name": "stdout",
     "output_type": "stream",
     "text": [
      "26\n"
     ]
    }
   ],
   "source": [
    "count = 0\n",
    "for i in s :\n",
    "    #count = count + 1\n",
    "    count+=1\n",
    "print(count)"
   ]
  },
  {
   "cell_type": "code",
   "execution_count": 4,
   "id": "5d3e177a",
   "metadata": {},
   "outputs": [
    {
     "data": {
      "text/plain": [
       "'ssalc nohtyp cisab si sihT'"
      ]
     },
     "execution_count": 4,
     "metadata": {},
     "output_type": "execute_result"
    }
   ],
   "source": [
    "s[::-1]"
   ]
  },
  {
   "cell_type": "code",
   "execution_count": 5,
   "id": "d4f02155",
   "metadata": {},
   "outputs": [
    {
     "data": {
      "text/plain": [
       "'This is basic python class'"
      ]
     },
     "execution_count": 5,
     "metadata": {},
     "output_type": "execute_result"
    }
   ],
   "source": [
    "s"
   ]
  },
  {
   "cell_type": "code",
   "execution_count": 10,
   "id": "2cab64ce",
   "metadata": {},
   "outputs": [],
   "source": []
  },
  {
   "cell_type": "code",
   "execution_count": 11,
   "id": "57c3fd65",
   "metadata": {},
   "outputs": [
    {
     "name": "stdout",
     "output_type": "stream",
     "text": [
      "s s a l c   n o h t y p   c i s a b   s i   s i h T "
     ]
    }
   ],
   "source": [
    "i=len(s)-1\n",
    "while(i>=0):\n",
    "    print(s[i], end=\" \")\n",
    "    i=i-1"
   ]
  },
  {
   "cell_type": "code",
   "execution_count": 16,
   "id": "e5e7676a",
   "metadata": {},
   "outputs": [],
   "source": [
    "while i in range(len(s)-1, -1, -1) :\n",
    "    print(s)-1"
   ]
  },
  {
   "cell_type": "code",
   "execution_count": 17,
   "id": "08c89826",
   "metadata": {},
   "outputs": [],
   "source": [
    "s = \"ineuron\"\n",
    "v = \"AaEeIiOoUu\""
   ]
  },
  {
   "cell_type": "code",
   "execution_count": 18,
   "id": "5334b012",
   "metadata": {},
   "outputs": [
    {
     "name": "stdout",
     "output_type": "stream",
     "text": [
      "vowel i\n",
      "not vowel n\n",
      "vowel e\n",
      "vowel u\n",
      "not vowel r\n",
      "vowel o\n",
      "not vowel n\n"
     ]
    }
   ],
   "source": [
    "for i in s :\n",
    "    if i in v:\n",
    "        print(\"vowel\", i)\n",
    "    else:\n",
    "        print(\"not vowel\", i)"
   ]
  },
  {
   "cell_type": "code",
   "execution_count": 20,
   "id": "3723473c",
   "metadata": {},
   "outputs": [
    {
     "data": {
      "text/plain": [
       "True"
      ]
     },
     "execution_count": 20,
     "metadata": {},
     "output_type": "execute_result"
    }
   ],
   "source": [
    "\"s\" in \"sudh\""
   ]
  },
  {
   "cell_type": "code",
   "execution_count": 21,
   "id": "fc775bb4",
   "metadata": {},
   "outputs": [],
   "source": [
    "a =\"tnent\"\n",
    "b= \"malayalam\"\n",
    "c= \"eye\""
   ]
  },
  {
   "cell_type": "code",
   "execution_count": 26,
   "id": "70ca1140",
   "metadata": {},
   "outputs": [
    {
     "name": "stdout",
     "output_type": "stream",
     "text": [
      "eye\n",
      "Palindrom eye\n"
     ]
    }
   ],
   "source": [
    "s = input()\n",
    "v =s[::-1]\n",
    "if s == v :\n",
    "    print(\"Palindrom\", s)\n",
    "else:\n",
    "    print(\"Not a pallindrome\", s)\n",
    "    "
   ]
  },
  {
   "cell_type": "code",
   "execution_count": 23,
   "id": "e6b4878c",
   "metadata": {},
   "outputs": [
    {
     "data": {
      "text/plain": [
       "'tnent'"
      ]
     },
     "execution_count": 23,
     "metadata": {},
     "output_type": "execute_result"
    }
   ],
   "source": [
    "a[::-1]"
   ]
  },
  {
   "cell_type": "code",
   "execution_count": 40,
   "id": "14829cfd",
   "metadata": {},
   "outputs": [],
   "source": [
    "d = {\"india\" : \"IN\",\n",
    "    \"canada\" : \"CA\",\n",
    "    \"china\" : \"CH\",\n",
    "    \"united state\" : \"US\"}"
   ]
  },
  {
   "cell_type": "code",
   "execution_count": 41,
   "id": "fc0d20a7",
   "metadata": {},
   "outputs": [
    {
     "data": {
      "text/plain": [
       "True"
      ]
     },
     "execution_count": 41,
     "metadata": {},
     "output_type": "execute_result"
    }
   ],
   "source": [
    "\"india\" in d"
   ]
  },
  {
   "cell_type": "code",
   "execution_count": 42,
   "id": "3f6ceec1",
   "metadata": {},
   "outputs": [],
   "source": [
    "l1 =[]\n",
    "l2 =[]\n",
    "for i in d:\n",
    "    if len(i)<= 5 :\n",
    "        l1.append(i)\n",
    "    else :\n",
    "        l2.append(i)"
   ]
  },
  {
   "cell_type": "code",
   "execution_count": 43,
   "id": "34b2b310",
   "metadata": {},
   "outputs": [
    {
     "data": {
      "text/plain": [
       "['canada', 'united state']"
      ]
     },
     "execution_count": 43,
     "metadata": {},
     "output_type": "execute_result"
    }
   ],
   "source": [
    "l2"
   ]
  },
  {
   "cell_type": "code",
   "execution_count": 44,
   "id": "04d55dc3",
   "metadata": {},
   "outputs": [
    {
     "data": {
      "text/plain": [
       "['india', 'china']"
      ]
     },
     "execution_count": 44,
     "metadata": {},
     "output_type": "execute_result"
    }
   ],
   "source": [
    "l1"
   ]
  },
  {
   "cell_type": "code",
   "execution_count": 45,
   "id": "6112fbb1",
   "metadata": {},
   "outputs": [],
   "source": [
    "d_1 = {\"ineuron\" :{\n",
    "                        \"a\" : 14,\n",
    "                        \"b\" : 10,\n",
    "                        \"c\" : 4\n",
    "                    },\n",
    "       \n",
    "        \"course\" :  {\n",
    "                        \"d\" : 45,\n",
    "                        \"e\" : 34,\n",
    "                        \"f\" : 1\n",
    "                    }\n",
    "        }"
   ]
  },
  {
   "cell_type": "code",
   "execution_count": 53,
   "id": "660fedf1",
   "metadata": {},
   "outputs": [
    {
     "name": "stdout",
     "output_type": "stream",
     "text": [
      "14\n",
      "10\n",
      "4\n",
      "45\n",
      "34\n",
      "1\n"
     ]
    }
   ],
   "source": [
    "for i in d_1.values():\n",
    "    for j in i.values():\n",
    "        print(j)"
   ]
  },
  {
   "cell_type": "code",
   "execution_count": 62,
   "id": "e942fa33",
   "metadata": {},
   "outputs": [
    {
     "name": "stdout",
     "output_type": "stream",
     "text": [
      "14\n",
      "45\n"
     ]
    }
   ],
   "source": [
    "for i in d_1.values():\n",
    "    print(max(i.values()))"
   ]
  },
  {
   "cell_type": "code",
   "execution_count": 59,
   "id": "f5498a8a",
   "metadata": {},
   "outputs": [
    {
     "data": {
      "text/plain": [
       "dict_values([{'a': 14, 'b': 10, 'c': 4}, {'d': 45, 'e': 34, 'f': 1}])"
      ]
     },
     "execution_count": 59,
     "metadata": {},
     "output_type": "execute_result"
    }
   ],
   "source": [
    "d_1.values()"
   ]
  },
  {
   "cell_type": "code",
   "execution_count": 66,
   "id": "470e8550",
   "metadata": {},
   "outputs": [
    {
     "name": "stdout",
     "output_type": "stream",
     "text": [
      "ineuron\n"
     ]
    },
    {
     "ename": "AttributeError",
     "evalue": "'str' object has no attribute 'values'",
     "output_type": "error",
     "traceback": [
      "\u001b[1;31m---------------------------------------------------------------------------\u001b[0m",
      "\u001b[1;31mAttributeError\u001b[0m                            Traceback (most recent call last)",
      "\u001b[1;32m~\\AppData\\Local\\Temp/ipykernel_7324/2207603142.py\u001b[0m in \u001b[0;36m<module>\u001b[1;34m\u001b[0m\n\u001b[0;32m      1\u001b[0m \u001b[1;32mfor\u001b[0m \u001b[0mi\u001b[0m \u001b[1;32min\u001b[0m \u001b[0md_1\u001b[0m\u001b[1;33m.\u001b[0m\u001b[0mkeys\u001b[0m\u001b[1;33m(\u001b[0m\u001b[1;33m)\u001b[0m\u001b[1;33m:\u001b[0m\u001b[1;33m\u001b[0m\u001b[1;33m\u001b[0m\u001b[0m\n\u001b[0;32m      2\u001b[0m     \u001b[0mprint\u001b[0m\u001b[1;33m(\u001b[0m\u001b[0mi\u001b[0m\u001b[1;33m)\u001b[0m\u001b[1;33m\u001b[0m\u001b[1;33m\u001b[0m\u001b[0m\n\u001b[1;32m----> 3\u001b[1;33m     \u001b[0mprint\u001b[0m\u001b[1;33m(\u001b[0m\u001b[0mmax\u001b[0m\u001b[1;33m(\u001b[0m\u001b[0mi\u001b[0m\u001b[1;33m.\u001b[0m\u001b[0mvalues\u001b[0m\u001b[1;33m(\u001b[0m\u001b[1;33m)\u001b[0m\u001b[1;33m)\u001b[0m\u001b[1;33m)\u001b[0m\u001b[1;33m\u001b[0m\u001b[1;33m\u001b[0m\u001b[0m\n\u001b[0m",
      "\u001b[1;31mAttributeError\u001b[0m: 'str' object has no attribute 'values'"
     ]
    }
   ],
   "source": [
    "for i in d_1.keys():\n",
    "    print(i)\n",
    "    print(max(i.values()))"
   ]
  },
  {
   "cell_type": "code",
   "execution_count": 72,
   "id": "c185b44a",
   "metadata": {},
   "outputs": [
    {
     "ename": "SyntaxError",
     "evalue": "unexpected EOF while parsing (Temp/ipykernel_7324/160616727.py, line 3)",
     "output_type": "error",
     "traceback": [
      "\u001b[1;36m  File \u001b[1;32m\"C:\\Users\\hp\\AppData\\Local\\Temp/ipykernel_7324/160616727.py\"\u001b[1;36m, line \u001b[1;32m3\u001b[0m\n\u001b[1;33m    print(max(d_1.values())\u001b[0m\n\u001b[1;37m                           ^\u001b[0m\n\u001b[1;31mSyntaxError\u001b[0m\u001b[1;31m:\u001b[0m unexpected EOF while parsing\n"
     ]
    }
   ],
   "source": [
    "for i in d_1:\n",
    "    print(i)\n",
    "    print(max(d_1.values())"
   ]
  },
  {
   "cell_type": "code",
   "execution_count": 128,
   "id": "c6562cf7",
   "metadata": {},
   "outputs": [],
   "source": [
    "d1 ={\"ineuron\" :{\"a\" : 14, \"b\" : 10,\"c\" : 4},\"course\" : {\"d\" : 95, \"e\" : 34, \"f\" : 1},\n",
    "    \"g\":34, \"h\":[95,6,7,8,9,3], \"i\":(45,34,2), \"k\": \"sudh\"}"
   ]
  },
  {
   "cell_type": "code",
   "execution_count": 133,
   "id": "47fe8f58",
   "metadata": {},
   "outputs": [
    {
     "ename": "TypeError",
     "evalue": "'>' not supported between instances of 'str' and 'int'",
     "output_type": "error",
     "traceback": [
      "\u001b[1;31m---------------------------------------------------------------------------\u001b[0m",
      "\u001b[1;31mTypeError\u001b[0m                                 Traceback (most recent call last)",
      "\u001b[1;32m~\\AppData\\Local\\Temp/ipykernel_7324/257152346.py\u001b[0m in \u001b[0;36m<module>\u001b[1;34m\u001b[0m\n\u001b[0;32m     11\u001b[0m         \u001b[1;32mpass\u001b[0m\u001b[1;33m\u001b[0m\u001b[1;33m\u001b[0m\u001b[0m\n\u001b[0;32m     12\u001b[0m \u001b[1;32melse\u001b[0m\u001b[1;33m:\u001b[0m\u001b[1;33m\u001b[0m\u001b[1;33m\u001b[0m\u001b[0m\n\u001b[1;32m---> 13\u001b[1;33m     \u001b[0mprint\u001b[0m\u001b[1;33m(\u001b[0m\u001b[0mmax\u001b[0m\u001b[1;33m(\u001b[0m\u001b[0mr\u001b[0m\u001b[1;33m)\u001b[0m\u001b[1;33m)\u001b[0m\u001b[1;33m\u001b[0m\u001b[1;33m\u001b[0m\u001b[0m\n\u001b[0m\u001b[0;32m     14\u001b[0m \u001b[1;33m\u001b[0m\u001b[0m\n\u001b[0;32m     15\u001b[0m \u001b[1;33m\u001b[0m\u001b[0m\n",
      "\u001b[1;31mTypeError\u001b[0m: '>' not supported between instances of 'str' and 'int'"
     ]
    }
   ],
   "source": [
    "r =[]\n",
    "for i in d1.values():\n",
    "    if type(i) == dict:\n",
    "        r.append(max(i.values()))\n",
    "    elif type(i) == list:\n",
    "        r.append(max(i))\n",
    "    elif type(i) == tuple:\n",
    "        r.append(max(i))\n",
    "    elif type(i) == str:\n",
    "        r.append(max(i))\n",
    "        pass\n",
    "else:\n",
    "    print(max(r))\n",
    "            \n",
    "                "
   ]
  },
  {
   "cell_type": "code",
   "execution_count": 127,
   "id": "f96434f1",
   "metadata": {},
   "outputs": [
    {
     "name": "stdout",
     "output_type": "stream",
     "text": [
      "45\n"
     ]
    }
   ],
   "source": [
    "r =[]\n",
    "for i in d1.values():\n",
    "    if type(i) == dict:\n",
    "        r.append(max(i.values()))\n",
    "    elif type(i) == list:\n",
    "        r.append(max(i))\n",
    "    elif type(i) == tuple:\n",
    "        r.append(max(i))\n",
    "    elif type(i) == str:\n",
    "        r.append(max(i))\n",
    "        pass\n",
    "    else:\n",
    "        print(max(r))"
   ]
  },
  {
   "cell_type": "code",
   "execution_count": 130,
   "id": "e0f1aa2a",
   "metadata": {},
   "outputs": [],
   "source": [
    "a= (45,56)"
   ]
  },
  {
   "cell_type": "code",
   "execution_count": 131,
   "id": "7cd4620e",
   "metadata": {},
   "outputs": [
    {
     "data": {
      "text/plain": [
       "tuple"
      ]
     },
     "execution_count": 131,
     "metadata": {},
     "output_type": "execute_result"
    }
   ],
   "source": [
    "type(a)"
   ]
  },
  {
   "cell_type": "code",
   "execution_count": 2,
   "id": "143ed580",
   "metadata": {},
   "outputs": [
    {
     "name": "stdout",
     "output_type": "stream",
     "text": [
      "eye\n",
      "palindrome \n"
     ]
    }
   ],
   "source": [
    "s = input()\n",
    "v = s[::-1]\n",
    "if s == v:\n",
    "    print(\"palindrome\", \"\")\n",
    "else:\n",
    "    print(\"not palindrome\", \"\")"
   ]
  },
  {
   "cell_type": "code",
   "execution_count": 6,
   "id": "427c9f5b",
   "metadata": {},
   "outputs": [
    {
     "name": "stdout",
     "output_type": "stream",
     "text": [
      "Krish\n"
     ]
    }
   ],
   "source": [
    "a = 10\n",
    "if a<15:\n",
    "    print(\"Krish\")"
   ]
  },
  {
   "cell_type": "code",
   "execution_count": null,
   "id": "f4302684",
   "metadata": {},
   "outputs": [],
   "source": []
  }
 ],
 "metadata": {
  "kernelspec": {
   "display_name": "Python 3 (ipykernel)",
   "language": "python",
   "name": "python3"
  },
  "language_info": {
   "codemirror_mode": {
    "name": "ipython",
    "version": 3
   },
   "file_extension": ".py",
   "mimetype": "text/x-python",
   "name": "python",
   "nbconvert_exporter": "python",
   "pygments_lexer": "ipython3",
   "version": "3.9.7"
  }
 },
 "nbformat": 4,
 "nbformat_minor": 5
}

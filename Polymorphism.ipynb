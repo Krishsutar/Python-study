{
 "cells": [
  {
   "cell_type": "code",
   "execution_count": 1,
   "id": "816d0cfb",
   "metadata": {},
   "outputs": [],
   "source": [
    "def test(a,b):\n",
    "    return a + b"
   ]
  },
  {
   "cell_type": "code",
   "execution_count": 2,
   "id": "70d3ff1f",
   "metadata": {},
   "outputs": [
    {
     "data": {
      "text/plain": [
       "7"
      ]
     },
     "execution_count": 2,
     "metadata": {},
     "output_type": "execute_result"
    }
   ],
   "source": [
    "test(3 ,4)"
   ]
  },
  {
   "cell_type": "code",
   "execution_count": 3,
   "id": "e575efd6",
   "metadata": {},
   "outputs": [
    {
     "data": {
      "text/plain": [
       "'krishSutar'"
      ]
     },
     "execution_count": 3,
     "metadata": {},
     "output_type": "execute_result"
    }
   ],
   "source": [
    "test (\"krish\", \"Sutar\")"
   ]
  },
  {
   "cell_type": "code",
   "execution_count": 18,
   "id": "bd1f6752",
   "metadata": {},
   "outputs": [],
   "source": [
    "class insta:\n",
    "    def share_stories(self):\n",
    "        print(\"this will share my insta story\")\n",
    "        \n",
    "class facebook:\n",
    "    def share_stories(self):\n",
    "        print(\"this will share my facebook story\")\n",
    "        \n",
    "        "
   ]
  },
  {
   "cell_type": "code",
   "execution_count": 19,
   "id": "97da8638",
   "metadata": {},
   "outputs": [],
   "source": [
    "def sharestories(app):\n",
    "    app.share_stories()"
   ]
  },
  {
   "cell_type": "code",
   "execution_count": 71,
   "id": "4c0eec6b",
   "metadata": {},
   "outputs": [],
   "source": [
    "i = insta()\n",
    "f = facebook()"
   ]
  },
  {
   "cell_type": "code",
   "execution_count": 21,
   "id": "a7c61c88",
   "metadata": {},
   "outputs": [
    {
     "name": "stdout",
     "output_type": "stream",
     "text": [
      "this will share my insta story\n"
     ]
    }
   ],
   "source": [
    "sharestories(i)"
   ]
  },
  {
   "cell_type": "code",
   "execution_count": 72,
   "id": "e605dff8",
   "metadata": {},
   "outputs": [
    {
     "name": "stdout",
     "output_type": "stream",
     "text": [
      "this is the fun for sharing a story for facebook\n"
     ]
    }
   ],
   "source": [
    "sharestories(f)"
   ]
  },
  {
   "cell_type": "code",
   "execution_count": 24,
   "id": "efff3b2a",
   "metadata": {},
   "outputs": [],
   "source": [
    "class social_media:\n",
    "    def share_stories(self):\n",
    "        print (\"share a stories\")\n",
    "    def upload_pic(self):\n",
    "        print(\"this will help you to upload pic on social media\")\n",
    "        \n",
    "class facebook(social_media):\n",
    "    def share_stories(self):\n",
    "        print(\"this is the fun for sharing a story for facebook\")\n",
    "        \n",
    "class insta(social_media):\n",
    "    def share_stories(self):\n",
    "        print(\"this will print a story on insta\")\n",
    "    "
   ]
  },
  {
   "cell_type": "code",
   "execution_count": 25,
   "id": "3b064bbc",
   "metadata": {},
   "outputs": [],
   "source": [
    "f = facebook()\n",
    "i = insta()"
   ]
  },
  {
   "cell_type": "code",
   "execution_count": 26,
   "id": "2929d199",
   "metadata": {},
   "outputs": [
    {
     "name": "stdout",
     "output_type": "stream",
     "text": [
      "this is the fun for sharing a story for facebook\n"
     ]
    }
   ],
   "source": [
    "f.share_stories()"
   ]
  },
  {
   "cell_type": "code",
   "execution_count": 28,
   "id": "4089c402",
   "metadata": {},
   "outputs": [
    {
     "name": "stdout",
     "output_type": "stream",
     "text": [
      "this will print a story on insta\n"
     ]
    }
   ],
   "source": [
    "i.share_stories()"
   ]
  },
  {
   "cell_type": "code",
   "execution_count": 29,
   "id": "8c7909f6",
   "metadata": {},
   "outputs": [
    {
     "name": "stdout",
     "output_type": "stream",
     "text": [
      "this will help you to upload pic on social media\n"
     ]
    }
   ],
   "source": [
    "f.upload_pic()"
   ]
  },
  {
   "cell_type": "code",
   "execution_count": 47,
   "id": "78d9654e",
   "metadata": {},
   "outputs": [],
   "source": [
    "class test(Exception):\n",
    "    def __init__(self, msg, myval):\n",
    "        self.msg = msg\n",
    "        self.myval = myval"
   ]
  },
  {
   "cell_type": "code",
   "execution_count": 49,
   "id": "4bd996d6",
   "metadata": {},
   "outputs": [
    {
     "name": "stdout",
     "output_type": "stream",
     "text": [
      "('this is my own exception class', 5)\n"
     ]
    }
   ],
   "source": [
    "try:\n",
    "    raise(test(\"this is my own exception class\", 5))\n",
    "except test as t :\n",
    "    print(t)"
   ]
  },
  {
   "cell_type": "code",
   "execution_count": 36,
   "id": "cd0aef5f",
   "metadata": {},
   "outputs": [
    {
     "name": "stdout",
     "output_type": "stream",
     "text": [
      "this is my own exception class\n"
     ]
    }
   ],
   "source": [
    "try:\n",
    "    raise(test(\"this is my own exception class\"))\n",
    "    5/0\n",
    "except test as t :\n",
    "    print(t)"
   ]
  },
  {
   "cell_type": "code",
   "execution_count": 50,
   "id": "b59e84d1",
   "metadata": {},
   "outputs": [],
   "source": [
    "# Create your own custome exception \n",
    "class test(Exception):\n",
    "    def __init__(self, Error):\n",
    "        self.Error = Error"
   ]
  },
  {
   "cell_type": "code",
   "execution_count": 51,
   "id": "3f67a28f",
   "metadata": {},
   "outputs": [
    {
     "name": "stdout",
     "output_type": "stream",
     "text": [
      "Not found Error\n"
     ]
    }
   ],
   "source": [
    "try:\n",
    "    raise(test(\"Not found Error\"))\n",
    "except test as e :\n",
    "    print(e)"
   ]
  },
  {
   "cell_type": "code",
   "execution_count": 1,
   "id": "774dc387",
   "metadata": {},
   "outputs": [],
   "source": [
    "#Create Polymorphism\n",
    "class Kashinath:\n",
    "    def Krishna(self):\n",
    "        print(\"Krishna Father\")\n",
    "        \n",
    "class Kanta:\n",
    "    def Krishna(self):\n",
    "        print(\"Krishna Mother\")\n",
    "              "
   ]
  },
  {
   "cell_type": "code",
   "execution_count": 2,
   "id": "d35885a7",
   "metadata": {},
   "outputs": [],
   "source": [
    "def Krishna(short):\n",
    "    short.Krishna()"
   ]
  },
  {
   "cell_type": "code",
   "execution_count": 3,
   "id": "669186e6",
   "metadata": {},
   "outputs": [],
   "source": [
    "KS = Kashinath()\n",
    "KK = Kanta()"
   ]
  },
  {
   "cell_type": "code",
   "execution_count": 4,
   "id": "0532acee",
   "metadata": {},
   "outputs": [
    {
     "name": "stdout",
     "output_type": "stream",
     "text": [
      "Krishna Father\n"
     ]
    }
   ],
   "source": [
    "Krishna(KS)"
   ]
  },
  {
   "cell_type": "code",
   "execution_count": 5,
   "id": "7d859c1c",
   "metadata": {},
   "outputs": [
    {
     "name": "stdout",
     "output_type": "stream",
     "text": [
      "Krishna Mother\n"
     ]
    }
   ],
   "source": [
    "Krishna(KK)"
   ]
  },
  {
   "cell_type": "code",
   "execution_count": 8,
   "id": "5bc8ab50",
   "metadata": {},
   "outputs": [
    {
     "ename": "TypeError",
     "evalue": "Krishna() missing 1 required positional argument: 'self'",
     "output_type": "error",
     "traceback": [
      "\u001b[1;31m---------------------------------------------------------------------------\u001b[0m",
      "\u001b[1;31mTypeError\u001b[0m                                 Traceback (most recent call last)",
      "\u001b[1;32m~\\AppData\\Local\\Temp/ipykernel_9892/368637128.py\u001b[0m in \u001b[0;36m<module>\u001b[1;34m\u001b[0m\n\u001b[1;32m----> 1\u001b[1;33m \u001b[0mKashinath\u001b[0m\u001b[1;33m.\u001b[0m\u001b[0mKrishna\u001b[0m\u001b[1;33m(\u001b[0m\u001b[1;33m)\u001b[0m\u001b[1;33m\u001b[0m\u001b[1;33m\u001b[0m\u001b[0m\n\u001b[0m",
      "\u001b[1;31mTypeError\u001b[0m: Krishna() missing 1 required positional argument: 'self'"
     ]
    }
   ],
   "source": [
    "Kashinath.Krishna()"
   ]
  },
  {
   "cell_type": "code",
   "execution_count": 9,
   "id": "03aaa1ab",
   "metadata": {},
   "outputs": [],
   "source": [
    "class accdetail:\n",
    "    acc_num = \"6546456\"\n",
    "    \n",
    "    def __init__(self, amount):\n",
    "        self.amount = amount\n",
    "        \n",
    "    def show_bal(self, ded):\n",
    "        self.amount = self.amount - ded\n",
    "        return self.amount, acc_num"
   ]
  },
  {
   "cell_type": "code",
   "execution_count": 10,
   "id": "7b5bdabd",
   "metadata": {},
   "outputs": [
    {
     "ename": "NameError",
     "evalue": "name 'self' is not defined",
     "output_type": "error",
     "traceback": [
      "\u001b[1;31m---------------------------------------------------------------------------\u001b[0m",
      "\u001b[1;31mNameError\u001b[0m                                 Traceback (most recent call last)",
      "\u001b[1;32m~\\AppData\\Local\\Temp/ipykernel_9892/2488223871.py\u001b[0m in \u001b[0;36m<module>\u001b[1;34m\u001b[0m\n\u001b[1;32m----> 1\u001b[1;33m \u001b[0ma\u001b[0m \u001b[1;33m=\u001b[0m \u001b[0mself\u001b[0m\u001b[1;33m.\u001b[0m\u001b[0mamount\u001b[0m\u001b[1;33m(\u001b[0m\u001b[1;36m58\u001b[0m\u001b[1;33m)\u001b[0m\u001b[1;33m\u001b[0m\u001b[1;33m\u001b[0m\u001b[0m\n\u001b[0m",
      "\u001b[1;31mNameError\u001b[0m: name 'self' is not defined"
     ]
    }
   ],
   "source": [
    "a = self.amount(58)"
   ]
  },
  {
   "cell_type": "code",
   "execution_count": 11,
   "id": "8c18d9a0",
   "metadata": {},
   "outputs": [],
   "source": [
    "class abc:\n",
    "    pass"
   ]
  },
  {
   "cell_type": "code",
   "execution_count": 13,
   "id": "ea1f9911",
   "metadata": {},
   "outputs": [],
   "source": [
    "class data_project:\n",
    "    \n",
    "    def read_file(self):\n",
    "        pass\n",
    "    \n",
    "    def validate_file(self):\n",
    "        pass\n",
    "    \n",
    "    def validate_datatype(self):\n",
    "        pass\n",
    "    \n",
    "    def validate_db_connection(self):\n",
    "        pass\n",
    "    \n",
    "    def create_connection(self):\n",
    "        pass\n",
    "    \n",
    "    def insert_data(self):\n",
    "        pass\n",
    "    \n",
    "    def delete_data(self):\n",
    "        pass\n",
    "    \n",
    "    def update_data(self):\n",
    "        pass\n",
    "    \n",
    "    def perform_stat(self):\n",
    "        pass\n",
    "    \n",
    "    def perform_eda(self):\n",
    "        pass"
   ]
  },
  {
   "cell_type": "code",
   "execution_count": 20,
   "id": "7390345c",
   "metadata": {},
   "outputs": [],
   "source": [
    "class test:\n",
    "    def fun(self):\n",
    "        print(\"this is my sample class\")\n",
    "        \n",
    "    def __str__(self):\n",
    "        return str(\"this is the fun called at the time of object print\")"
   ]
  },
  {
   "cell_type": "code",
   "execution_count": 21,
   "id": "22d73d59",
   "metadata": {},
   "outputs": [],
   "source": [
    "t = test()"
   ]
  },
  {
   "cell_type": "code",
   "execution_count": 22,
   "id": "66e52778",
   "metadata": {},
   "outputs": [
    {
     "name": "stdout",
     "output_type": "stream",
     "text": [
      "this is the fun called at the time of object print\n"
     ]
    }
   ],
   "source": [
    "print(t)"
   ]
  },
  {
   "cell_type": "code",
   "execution_count": 23,
   "id": "fbd0bd70",
   "metadata": {},
   "outputs": [
    {
     "data": {
      "text/plain": [
       "<__main__.test at 0x257ed8278b0>"
      ]
     },
     "execution_count": 23,
     "metadata": {},
     "output_type": "execute_result"
    }
   ],
   "source": [
    "t"
   ]
  },
  {
   "cell_type": "code",
   "execution_count": null,
   "id": "0a8ae887",
   "metadata": {},
   "outputs": [],
   "source": []
  }
 ],
 "metadata": {
  "kernelspec": {
   "display_name": "Python 3 (ipykernel)",
   "language": "python",
   "name": "python3"
  },
  "language_info": {
   "codemirror_mode": {
    "name": "ipython",
    "version": 3
   },
   "file_extension": ".py",
   "mimetype": "text/x-python",
   "name": "python",
   "nbconvert_exporter": "python",
   "pygments_lexer": "ipython3",
   "version": "3.9.7"
  }
 },
 "nbformat": 4,
 "nbformat_minor": 5
}

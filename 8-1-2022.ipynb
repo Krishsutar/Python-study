{
 "cells": [
  {
   "cell_type": "code",
   "execution_count": 1,
   "id": "477dd264",
   "metadata": {},
   "outputs": [],
   "source": [
    "def test(a,b,c,d,e):\n",
    "    return a,b,c,d,e"
   ]
  },
  {
   "cell_type": "code",
   "execution_count": 5,
   "id": "c148fc3c",
   "metadata": {},
   "outputs": [
    {
     "data": {
      "text/plain": [
       "(1, 5, 4, 5, 5)"
      ]
     },
     "execution_count": 5,
     "metadata": {},
     "output_type": "execute_result"
    }
   ],
   "source": [
    "test(1,5,4,5,5,)"
   ]
  },
  {
   "cell_type": "code",
   "execution_count": 13,
   "id": "52a196f5",
   "metadata": {},
   "outputs": [],
   "source": [
    "def test1(*args):\n",
    "    return args"
   ]
  },
  {
   "cell_type": "code",
   "execution_count": 14,
   "id": "f68bc14a",
   "metadata": {},
   "outputs": [
    {
     "data": {
      "text/plain": [
       "(5, 8, 9, 2, 3, 5, 4, 222, 5)"
      ]
     },
     "execution_count": 14,
     "metadata": {},
     "output_type": "execute_result"
    }
   ],
   "source": [
    "test1(5,8,9,2,3,5,4,222,5)"
   ]
  },
  {
   "cell_type": "code",
   "execution_count": 15,
   "id": "bd006c85",
   "metadata": {},
   "outputs": [
    {
     "data": {
      "text/plain": [
       "([1, 2, 3], (34, 55, 66), 'kshd', (45+5j))"
      ]
     },
     "execution_count": 15,
     "metadata": {},
     "output_type": "execute_result"
    }
   ],
   "source": [
    "test1([1,2,3], (34,55,66), \"kshd\", 45+5j)"
   ]
  },
  {
   "cell_type": "code",
   "execution_count": 16,
   "id": "124aa88d",
   "metadata": {},
   "outputs": [],
   "source": [
    "def test2(*krish):\n",
    "    return krish"
   ]
  },
  {
   "cell_type": "code",
   "execution_count": 17,
   "id": "b8cf5c4c",
   "metadata": {},
   "outputs": [
    {
     "data": {
      "text/plain": [
       "('hsdkj', 747, 8439, 'slk')"
      ]
     },
     "execution_count": 17,
     "metadata": {},
     "output_type": "execute_result"
    }
   ],
   "source": [
    "test2(\"hsdkj\", 747,8439, \"slk\")"
   ]
  },
  {
   "cell_type": "code",
   "execution_count": 20,
   "id": "dacc2ecc",
   "metadata": {},
   "outputs": [],
   "source": [
    "def test3(*sudh, a):\n",
    "         return sudh, a"
   ]
  },
  {
   "cell_type": "code",
   "execution_count": 24,
   "id": "461a2a0d",
   "metadata": {},
   "outputs": [
    {
     "data": {
      "text/plain": [
       "((43, 545, 65, 4), 2609)"
      ]
     },
     "execution_count": 24,
     "metadata": {},
     "output_type": "execute_result"
    }
   ],
   "source": [
    "test3(43,545,65,4, a=2609)"
   ]
  },
  {
   "cell_type": "code",
   "execution_count": 25,
   "id": "42fcdaba",
   "metadata": {},
   "outputs": [],
   "source": [
    "def test4(*krish, a,b,c,d):\n",
    "    return krish, a,b,c,d"
   ]
  },
  {
   "cell_type": "code",
   "execution_count": 26,
   "id": "fcf0e495",
   "metadata": {},
   "outputs": [
    {
     "data": {
      "text/plain": [
       "((455, 58, 56), [22, 54, 654, 54], [44, 23, 43], 'krish', 56.56)"
      ]
     },
     "execution_count": 26,
     "metadata": {},
     "output_type": "execute_result"
    }
   ],
   "source": [
    "test4(455,58,56, a=[22,54,654,54], b=[44,23,43], c=\"krish\", d=56.56)"
   ]
  },
  {
   "cell_type": "code",
   "execution_count": 28,
   "id": "a711dc08",
   "metadata": {},
   "outputs": [],
   "source": [
    "def test5(a, *krish):\n",
    "    return a, krish "
   ]
  },
  {
   "cell_type": "code",
   "execution_count": 30,
   "id": "75ae6182",
   "metadata": {},
   "outputs": [
    {
     "data": {
      "text/plain": [
       "(8034, (54, 32, 5))"
      ]
     },
     "execution_count": 30,
     "metadata": {},
     "output_type": "execute_result"
    }
   ],
   "source": [
    "test5(8034,54,32,5)"
   ]
  },
  {
   "cell_type": "code",
   "execution_count": 31,
   "id": "8652181b",
   "metadata": {},
   "outputs": [
    {
     "ename": "SyntaxError",
     "evalue": "positional argument follows keyword argument (Temp/ipykernel_10356/519254344.py, line 1)",
     "output_type": "error",
     "traceback": [
      "\u001b[1;36m  File \u001b[1;32m\"C:\\Users\\hp\\AppData\\Local\\Temp/ipykernel_10356/519254344.py\"\u001b[1;36m, line \u001b[1;32m1\u001b[0m\n\u001b[1;33m    test5(a=8034,54,32,5)\u001b[0m\n\u001b[1;37m                        ^\u001b[0m\n\u001b[1;31mSyntaxError\u001b[0m\u001b[1;31m:\u001b[0m positional argument follows keyword argument\n"
     ]
    }
   ],
   "source": [
    "test5(a=8034,54,32,5)"
   ]
  },
  {
   "cell_type": "code",
   "execution_count": 32,
   "id": "343f77f0",
   "metadata": {},
   "outputs": [],
   "source": [
    "def test6(a, *krish, b, c):\n",
    "    return a, krish, b, c"
   ]
  },
  {
   "cell_type": "code",
   "execution_count": 34,
   "id": "38344c20",
   "metadata": {},
   "outputs": [
    {
     "data": {
      "text/plain": [
       "('krish', ([32, 43, 54, 6, 34],), 43, 5432)"
      ]
     },
     "execution_count": 34,
     "metadata": {},
     "output_type": "execute_result"
    }
   ],
   "source": [
    "test6(\"krish\", [32,43,54,6,34], b=43, c=5432)"
   ]
  },
  {
   "cell_type": "code",
   "execution_count": 35,
   "id": "81994092",
   "metadata": {},
   "outputs": [
    {
     "data": {
      "text/plain": [
       "function"
      ]
     },
     "execution_count": 35,
     "metadata": {},
     "output_type": "execute_result"
    }
   ],
   "source": [
    "type(test6)"
   ]
  },
  {
   "cell_type": "code",
   "execution_count": 60,
   "id": "6c3710cd",
   "metadata": {},
   "outputs": [],
   "source": [
    "def test7(*args):\n",
    "    for i in args:\n",
    "        if type(i) == list:\n",
    "            return i"
   ]
  },
  {
   "cell_type": "code",
   "execution_count": 61,
   "id": "ef5ddf13",
   "metadata": {},
   "outputs": [
    {
     "data": {
      "text/plain": [
       "[889, 663, 8]"
      ]
     },
     "execution_count": 61,
     "metadata": {},
     "output_type": "execute_result"
    }
   ],
   "source": [
    "test7(56,8,6,5, [889,663,8])"
   ]
  },
  {
   "cell_type": "code",
   "execution_count": 62,
   "id": "8a88d2d1",
   "metadata": {},
   "outputs": [
    {
     "data": {
      "text/plain": [
       "[889, 663, 8]"
      ]
     },
     "execution_count": 62,
     "metadata": {},
     "output_type": "execute_result"
    }
   ],
   "source": [
    "test7(56,8,6,5, [889,663,8], \"sak\", [8965,58])"
   ]
  },
  {
   "cell_type": "code",
   "execution_count": 68,
   "id": "4467224f",
   "metadata": {},
   "outputs": [],
   "source": [
    "def test8(*args):\n",
    "    l = []\n",
    "    for i in args:\n",
    "        if type(i) == list:\n",
    "            l.append(i)\n",
    "    return l"
   ]
  },
  {
   "cell_type": "code",
   "execution_count": 69,
   "id": "b20d4cf3",
   "metadata": {},
   "outputs": [
    {
     "data": {
      "text/plain": [
       "[[889, 663, 8], [8965, 58]]"
      ]
     },
     "execution_count": 69,
     "metadata": {},
     "output_type": "execute_result"
    }
   ],
   "source": [
    "test8(56,8,6,5, [889,663,8], \"sak\", [8965,58])"
   ]
  },
  {
   "cell_type": "code",
   "execution_count": 70,
   "id": "4641f96c",
   "metadata": {},
   "outputs": [],
   "source": [
    "d = {\"a\" : [3,45,6,64], 6 : [30,464,23,4]}"
   ]
  },
  {
   "cell_type": "code",
   "execution_count": 71,
   "id": "ceb7a454",
   "metadata": {},
   "outputs": [
    {
     "data": {
      "text/plain": [
       "[3, 45, 6, 64]"
      ]
     },
     "execution_count": 71,
     "metadata": {},
     "output_type": "execute_result"
    }
   ],
   "source": [
    "d[\"a\"]"
   ]
  },
  {
   "cell_type": "code",
   "execution_count": 80,
   "id": "e23dd361",
   "metadata": {},
   "outputs": [],
   "source": [
    "def test9(**kwargs):\n",
    "    return kwargs"
   ]
  },
  {
   "cell_type": "code",
   "execution_count": 86,
   "id": "bdf987f5",
   "metadata": {},
   "outputs": [
    {
     "data": {
      "text/plain": [
       "{'a': 345, 'b': [88, 669, 6, 4]}"
      ]
     },
     "execution_count": 86,
     "metadata": {},
     "output_type": "execute_result"
    }
   ],
   "source": [
    "test9(a=345, b=[88,669,6,4])"
   ]
  },
  {
   "cell_type": "code",
   "execution_count": 87,
   "id": "517f148d",
   "metadata": {},
   "outputs": [],
   "source": [
    "def test10(**krish):\n",
    "    return krish"
   ]
  },
  {
   "cell_type": "code",
   "execution_count": 88,
   "id": "e3e1f5a7",
   "metadata": {},
   "outputs": [
    {
     "data": {
      "text/plain": [
       "{'name': 'krish', 'age': '24', 'mo_no': '89662', 'mail_id': 'krish@mao.com'}"
      ]
     },
     "execution_count": 88,
     "metadata": {},
     "output_type": "execute_result"
    }
   ],
   "source": [
    "test10(name = \"krish\", age = \"24\", mo_no = \"89662\", mail_id = \"krish@mao.com\")"
   ]
  },
  {
   "cell_type": "code",
   "execution_count": 89,
   "id": "642bf361",
   "metadata": {},
   "outputs": [],
   "source": [
    "def test11(a, **krish):\n",
    "    return krish, a"
   ]
  },
  {
   "cell_type": "code",
   "execution_count": 91,
   "id": "06e852ad",
   "metadata": {},
   "outputs": [
    {
     "data": {
      "text/plain": [
       "({'t': 67, 'b': 78, 'c': 8, 'd': 0, 'e': 90}, 45)"
      ]
     },
     "execution_count": 91,
     "metadata": {},
     "output_type": "execute_result"
    }
   ],
   "source": [
    "test11(45, t=67, b=78, c=8, d=0, e=90)"
   ]
  },
  {
   "cell_type": "code",
   "execution_count": 104,
   "id": "957c8cea",
   "metadata": {},
   "outputs": [
    {
     "ename": "SyntaxError",
     "evalue": "invalid syntax (Temp/ipykernel_10356/2706045664.py, line 1)",
     "output_type": "error",
     "traceback": [
      "\u001b[1;36m  File \u001b[1;32m\"C:\\Users\\hp\\AppData\\Local\\Temp/ipykernel_10356/2706045664.py\"\u001b[1;36m, line \u001b[1;32m1\u001b[0m\n\u001b[1;33m    def test12(**krish, *args, a):\u001b[0m\n\u001b[1;37m                        ^\u001b[0m\n\u001b[1;31mSyntaxError\u001b[0m\u001b[1;31m:\u001b[0m invalid syntax\n"
     ]
    }
   ],
   "source": [
    "def test12(**krish, *args, a):\n",
    "    return krish, a, args"
   ]
  },
  {
   "cell_type": "code",
   "execution_count": 101,
   "id": "841468ca",
   "metadata": {},
   "outputs": [],
   "source": [
    "def test13(a, *krish, **kwargs):\n",
    "    return a, krish, kwargs"
   ]
  },
  {
   "cell_type": "code",
   "execution_count": 102,
   "id": "8f3f2cd1",
   "metadata": {},
   "outputs": [
    {
     "data": {
      "text/plain": [
       "(45, (85, 6, 8, 3), {'g': 5896, 'k': 45})"
      ]
     },
     "execution_count": 102,
     "metadata": {},
     "output_type": "execute_result"
    }
   ],
   "source": [
    "test13(45,85,6,8,3, g=5896, k=45)"
   ]
  },
  {
   "cell_type": "code",
   "execution_count": 105,
   "id": "41172702",
   "metadata": {},
   "outputs": [],
   "source": [
    "def test14(a,b):\n",
    "    return a*b"
   ]
  },
  {
   "cell_type": "code",
   "execution_count": 106,
   "id": "51d537aa",
   "metadata": {},
   "outputs": [
    {
     "data": {
      "text/plain": [
       "4760"
      ]
     },
     "execution_count": 106,
     "metadata": {},
     "output_type": "execute_result"
    }
   ],
   "source": [
    "test14(56,85)"
   ]
  },
  {
   "cell_type": "code",
   "execution_count": 117,
   "id": "301a022e",
   "metadata": {},
   "outputs": [],
   "source": [
    "a= lambda a,b : (a*b , a+b, a-b)"
   ]
  },
  {
   "cell_type": "code",
   "execution_count": 118,
   "id": "09fe0ce6",
   "metadata": {},
   "outputs": [
    {
     "data": {
      "text/plain": [
       "(180, 49, 41)"
      ]
     },
     "execution_count": 118,
     "metadata": {},
     "output_type": "execute_result"
    }
   ],
   "source": [
    "a(45,4)"
   ]
  },
  {
   "cell_type": "code",
   "execution_count": 124,
   "id": "6668f7fa",
   "metadata": {},
   "outputs": [],
   "source": [
    "a = lambda *a:a"
   ]
  },
  {
   "cell_type": "code",
   "execution_count": 125,
   "id": "995532eb",
   "metadata": {},
   "outputs": [
    {
     "data": {
      "text/plain": [
       "(56, 89, 25)"
      ]
     },
     "execution_count": 125,
     "metadata": {},
     "output_type": "execute_result"
    }
   ],
   "source": [
    "a(56,89,25)"
   ]
  },
  {
   "cell_type": "code",
   "execution_count": 134,
   "id": "dd709b57",
   "metadata": {},
   "outputs": [],
   "source": [
    "x = lambda x: [i for i in x]"
   ]
  },
  {
   "cell_type": "code",
   "execution_count": 135,
   "id": "6c7d3a4b",
   "metadata": {},
   "outputs": [
    {
     "data": {
      "text/plain": [
       "[4, 5, 57, 5]"
      ]
     },
     "execution_count": 135,
     "metadata": {},
     "output_type": "execute_result"
    }
   ],
   "source": [
    "x([4,5,57,5])"
   ]
  },
  {
   "cell_type": "code",
   "execution_count": 136,
   "id": "7b47d375",
   "metadata": {},
   "outputs": [],
   "source": [
    "l = [4,5,6,7,8,8]"
   ]
  },
  {
   "cell_type": "code",
   "execution_count": 137,
   "id": "b4fa5423",
   "metadata": {},
   "outputs": [],
   "source": [
    "l1 = []\n",
    "for i in l:\n",
    "    l1.append(i)"
   ]
  },
  {
   "cell_type": "code",
   "execution_count": 138,
   "id": "908829d4",
   "metadata": {},
   "outputs": [
    {
     "data": {
      "text/plain": [
       "[4, 5, 6, 7, 8, 8]"
      ]
     },
     "execution_count": 138,
     "metadata": {},
     "output_type": "execute_result"
    }
   ],
   "source": [
    "l1"
   ]
  },
  {
   "cell_type": "code",
   "execution_count": 141,
   "id": "4c06a082",
   "metadata": {},
   "outputs": [
    {
     "data": {
      "text/plain": [
       "[45]"
      ]
     },
     "execution_count": 141,
     "metadata": {},
     "output_type": "execute_result"
    }
   ],
   "source": [
    "x([45])"
   ]
  },
  {
   "cell_type": "code",
   "execution_count": 142,
   "id": "6ec8ac25",
   "metadata": {},
   "outputs": [],
   "source": [
    "a = lambda **kwargs : kwargs"
   ]
  },
  {
   "cell_type": "code",
   "execution_count": 143,
   "id": "a236f455",
   "metadata": {},
   "outputs": [
    {
     "data": {
      "text/plain": [
       "{'a': 45, 'b': 89}"
      ]
     },
     "execution_count": 143,
     "metadata": {},
     "output_type": "execute_result"
    }
   ],
   "source": [
    "a(a=45, b=89)"
   ]
  },
  {
   "cell_type": "code",
   "execution_count": 152,
   "id": "567264e8",
   "metadata": {},
   "outputs": [],
   "source": [
    "c = 10\n",
    "def test15(c, d):\n",
    "    c = 5\n",
    "    return c*d"
   ]
  },
  {
   "cell_type": "code",
   "execution_count": 153,
   "id": "d1fedb41",
   "metadata": {},
   "outputs": [
    {
     "data": {
      "text/plain": [
       "250"
      ]
     },
     "execution_count": 153,
     "metadata": {},
     "output_type": "execute_result"
    }
   ],
   "source": [
    "test15(10, 50)"
   ]
  },
  {
   "cell_type": "code",
   "execution_count": 154,
   "id": "54ec6757",
   "metadata": {},
   "outputs": [
    {
     "data": {
      "text/plain": [
       "10"
      ]
     },
     "execution_count": 154,
     "metadata": {},
     "output_type": "execute_result"
    }
   ],
   "source": [
    "c"
   ]
  },
  {
   "cell_type": "code",
   "execution_count": 155,
   "id": "2c1be5fe",
   "metadata": {},
   "outputs": [],
   "source": [
    "l = [11,12,5,47,2,4,7,2,78]\n",
    "l1= []\n",
    "for i in l:\n",
    "    l1.append(i+2)"
   ]
  },
  {
   "cell_type": "code",
   "execution_count": 156,
   "id": "d61527a4",
   "metadata": {},
   "outputs": [
    {
     "data": {
      "text/plain": [
       "[13, 14, 7, 49, 4, 6, 9, 4, 80]"
      ]
     },
     "execution_count": 156,
     "metadata": {},
     "output_type": "execute_result"
    }
   ],
   "source": [
    "l1"
   ]
  },
  {
   "cell_type": "code",
   "execution_count": 160,
   "id": "cd59ad92",
   "metadata": {},
   "outputs": [],
   "source": [
    "def test17(a):\n",
    "    l1 = []\n",
    "    for i in a:\n",
    "        l1.append(i+2)\n",
    "    return l1"
   ]
  },
  {
   "cell_type": "code",
   "execution_count": 161,
   "id": "efb495b4",
   "metadata": {},
   "outputs": [
    {
     "data": {
      "text/plain": [
       "[13, 14, 7, 49, 4, 6, 9, 4, 80]"
      ]
     },
     "execution_count": 161,
     "metadata": {},
     "output_type": "execute_result"
    }
   ],
   "source": [
    "test17(l)"
   ]
  },
  {
   "cell_type": "code",
   "execution_count": 162,
   "id": "cd73a887",
   "metadata": {},
   "outputs": [],
   "source": [
    "a =  lambda a: [i+2 for i in a]"
   ]
  },
  {
   "cell_type": "code",
   "execution_count": 163,
   "id": "451f32f3",
   "metadata": {},
   "outputs": [
    {
     "data": {
      "text/plain": [
       "[13, 14, 7, 49, 4, 6, 9, 4, 80]"
      ]
     },
     "execution_count": 163,
     "metadata": {},
     "output_type": "execute_result"
    }
   ],
   "source": [
    "a(l)"
   ]
  },
  {
   "cell_type": "code",
   "execution_count": 164,
   "id": "300f8832",
   "metadata": {},
   "outputs": [
    {
     "data": {
      "text/plain": [
       "[13, 14, 7, 49, 4, 6, 9, 4, 80]"
      ]
     },
     "execution_count": 164,
     "metadata": {},
     "output_type": "execute_result"
    }
   ],
   "source": [
    "[i+2 for i in l]"
   ]
  },
  {
   "cell_type": "code",
   "execution_count": 167,
   "id": "03ed0dae",
   "metadata": {},
   "outputs": [
    {
     "data": {
      "text/plain": [
       "[(4, 4), (4, 4)]"
      ]
     },
     "execution_count": 167,
     "metadata": {},
     "output_type": "execute_result"
    }
   ],
   "source": [
    "[(i**2, i+i) for i in l if i<4]"
   ]
  },
  {
   "cell_type": "code",
   "execution_count": 170,
   "id": "bffad517",
   "metadata": {},
   "outputs": [],
   "source": [
    "l1 = []\n",
    "for i in l:\n",
    "    if i < 4:\n",
    "         l1.append((i**2, i+i))"
   ]
  },
  {
   "cell_type": "code",
   "execution_count": 171,
   "id": "410e11a7",
   "metadata": {},
   "outputs": [
    {
     "data": {
      "text/plain": [
       "[(4, 4), (4, 4)]"
      ]
     },
     "execution_count": 171,
     "metadata": {},
     "output_type": "execute_result"
    }
   ],
   "source": [
    "l1"
   ]
  },
  {
   "cell_type": "code",
   "execution_count": 173,
   "id": "04e71fb9",
   "metadata": {},
   "outputs": [
    {
     "data": {
      "text/plain": [
       "{0: 0, 1: 1, 2: 4, 3: 9, 4: 16, 5: 25, 6: 36, 7: 49, 8: 64, 9: 81}"
      ]
     },
     "execution_count": 173,
     "metadata": {},
     "output_type": "execute_result"
    }
   ],
   "source": [
    "{i:i**2 for i in range(10)}"
   ]
  },
  {
   "cell_type": "code",
   "execution_count": 174,
   "id": "9be43944",
   "metadata": {},
   "outputs": [],
   "source": [
    "d1 = { }\n",
    "for i in range(10) :\n",
    "    d1[i] = i**2"
   ]
  },
  {
   "cell_type": "code",
   "execution_count": 175,
   "id": "0cc92a30",
   "metadata": {},
   "outputs": [
    {
     "data": {
      "text/plain": [
       "{0: 0, 1: 1, 2: 4, 3: 9, 4: 16, 5: 25, 6: 36, 7: 49, 8: 64, 9: 81}"
      ]
     },
     "execution_count": 175,
     "metadata": {},
     "output_type": "execute_result"
    }
   ],
   "source": [
    "d1"
   ]
  },
  {
   "cell_type": "code",
   "execution_count": 180,
   "id": "e9cd3591",
   "metadata": {},
   "outputs": [
    {
     "data": {
      "text/plain": [
       "(0, 1, 2, 3, 4, 5, 6, 7, 8, 9)"
      ]
     },
     "execution_count": 180,
     "metadata": {},
     "output_type": "execute_result"
    }
   ],
   "source": [
    "tuple(i for i in range(10))"
   ]
  },
  {
   "cell_type": "code",
   "execution_count": 181,
   "id": "f0cb1461",
   "metadata": {},
   "outputs": [
    {
     "ename": "TypeError",
     "evalue": "'int' object is not iterable",
     "output_type": "error",
     "traceback": [
      "\u001b[1;31m---------------------------------------------------------------------------\u001b[0m",
      "\u001b[1;31mTypeError\u001b[0m                                 Traceback (most recent call last)",
      "\u001b[1;32m~\\AppData\\Local\\Temp/ipykernel_10356/4248146362.py\u001b[0m in \u001b[0;36m<module>\u001b[1;34m\u001b[0m\n\u001b[0;32m      1\u001b[0m \u001b[0ma\u001b[0m \u001b[1;33m=\u001b[0m \u001b[1;36m56\u001b[0m\u001b[1;33m\u001b[0m\u001b[1;33m\u001b[0m\u001b[0m\n\u001b[1;32m----> 2\u001b[1;33m \u001b[1;32mfor\u001b[0m \u001b[0mi\u001b[0m \u001b[1;32min\u001b[0m \u001b[0ma\u001b[0m \u001b[1;33m:\u001b[0m\u001b[1;33m\u001b[0m\u001b[1;33m\u001b[0m\u001b[0m\n\u001b[0m\u001b[0;32m      3\u001b[0m     \u001b[0mprint\u001b[0m\u001b[1;33m(\u001b[0m\u001b[0mi\u001b[0m\u001b[1;33m)\u001b[0m\u001b[1;33m\u001b[0m\u001b[1;33m\u001b[0m\u001b[0m\n",
      "\u001b[1;31mTypeError\u001b[0m: 'int' object is not iterable"
     ]
    }
   ],
   "source": [
    "a = 56\n",
    "for i in a :\n",
    "    print(i)"
   ]
  },
  {
   "cell_type": "code",
   "execution_count": 182,
   "id": "0a6f82a2",
   "metadata": {},
   "outputs": [
    {
     "name": "stdout",
     "output_type": "stream",
     "text": [
      "k\n",
      "r\n",
      "i\n",
      "s\n",
      "h\n"
     ]
    }
   ],
   "source": [
    "s = \"krish\"\n",
    "for i in s:\n",
    "    print(i)"
   ]
  },
  {
   "cell_type": "code",
   "execution_count": 183,
   "id": "ae473450",
   "metadata": {},
   "outputs": [
    {
     "ename": "TypeError",
     "evalue": "'str' object is not an iterator",
     "output_type": "error",
     "traceback": [
      "\u001b[1;31m---------------------------------------------------------------------------\u001b[0m",
      "\u001b[1;31mTypeError\u001b[0m                                 Traceback (most recent call last)",
      "\u001b[1;32m~\\AppData\\Local\\Temp/ipykernel_10356/1977886155.py\u001b[0m in \u001b[0;36m<module>\u001b[1;34m\u001b[0m\n\u001b[1;32m----> 1\u001b[1;33m \u001b[0mnext\u001b[0m\u001b[1;33m(\u001b[0m\u001b[0ms\u001b[0m\u001b[1;33m)\u001b[0m\u001b[1;33m\u001b[0m\u001b[1;33m\u001b[0m\u001b[0m\n\u001b[0m",
      "\u001b[1;31mTypeError\u001b[0m: 'str' object is not an iterator"
     ]
    }
   ],
   "source": [
    "next(s)"
   ]
  },
  {
   "cell_type": "code",
   "execution_count": 184,
   "id": "37eb8c47",
   "metadata": {},
   "outputs": [],
   "source": [
    "b= iter(s)"
   ]
  },
  {
   "cell_type": "code",
   "execution_count": 185,
   "id": "a24d3dc0",
   "metadata": {},
   "outputs": [
    {
     "data": {
      "text/plain": [
       "<str_iterator at 0x251f5f66640>"
      ]
     },
     "execution_count": 185,
     "metadata": {},
     "output_type": "execute_result"
    }
   ],
   "source": [
    "b"
   ]
  },
  {
   "cell_type": "code",
   "execution_count": 187,
   "id": "8efa00b8",
   "metadata": {},
   "outputs": [
    {
     "data": {
      "text/plain": [
       "'k'"
      ]
     },
     "execution_count": 187,
     "metadata": {},
     "output_type": "execute_result"
    }
   ],
   "source": [
    "next(b)"
   ]
  },
  {
   "cell_type": "code",
   "execution_count": 188,
   "id": "bfce8eb5",
   "metadata": {},
   "outputs": [
    {
     "data": {
      "text/plain": [
       "'r'"
      ]
     },
     "execution_count": 188,
     "metadata": {},
     "output_type": "execute_result"
    }
   ],
   "source": [
    "next(b)"
   ]
  },
  {
   "cell_type": "code",
   "execution_count": 189,
   "id": "2158248c",
   "metadata": {},
   "outputs": [
    {
     "data": {
      "text/plain": [
       "'i'"
      ]
     },
     "execution_count": 189,
     "metadata": {},
     "output_type": "execute_result"
    }
   ],
   "source": [
    "next(b)"
   ]
  },
  {
   "cell_type": "code",
   "execution_count": 190,
   "id": "1b81e2e8",
   "metadata": {},
   "outputs": [
    {
     "data": {
      "text/plain": [
       "'s'"
      ]
     },
     "execution_count": 190,
     "metadata": {},
     "output_type": "execute_result"
    }
   ],
   "source": [
    "next(b)"
   ]
  },
  {
   "cell_type": "code",
   "execution_count": 191,
   "id": "cb7ead03",
   "metadata": {},
   "outputs": [
    {
     "data": {
      "text/plain": [
       "'h'"
      ]
     },
     "execution_count": 191,
     "metadata": {},
     "output_type": "execute_result"
    }
   ],
   "source": [
    "next(b)"
   ]
  },
  {
   "cell_type": "code",
   "execution_count": 192,
   "id": "f53f3ee7",
   "metadata": {},
   "outputs": [
    {
     "name": "stdout",
     "output_type": "stream",
     "text": [
      "s\n",
      "l\n",
      "k\n",
      "j\n",
      "a\n"
     ]
    }
   ],
   "source": [
    "s = \"slkja\"\n",
    "for i in s :\n",
    "    print(i)"
   ]
  },
  {
   "cell_type": "code",
   "execution_count": 193,
   "id": "7c9b48ba",
   "metadata": {},
   "outputs": [],
   "source": [
    "s = iter(s)"
   ]
  },
  {
   "cell_type": "code",
   "execution_count": 194,
   "id": "bb5a4beb",
   "metadata": {},
   "outputs": [
    {
     "data": {
      "text/plain": [
       "'s'"
      ]
     },
     "execution_count": 194,
     "metadata": {},
     "output_type": "execute_result"
    }
   ],
   "source": [
    "next(s)"
   ]
  },
  {
   "cell_type": "code",
   "execution_count": 195,
   "id": "40545a46",
   "metadata": {},
   "outputs": [
    {
     "data": {
      "text/plain": [
       "'l'"
      ]
     },
     "execution_count": 195,
     "metadata": {},
     "output_type": "execute_result"
    }
   ],
   "source": [
    "next(s)"
   ]
  },
  {
   "cell_type": "code",
   "execution_count": 196,
   "id": "4f274312",
   "metadata": {},
   "outputs": [
    {
     "data": {
      "text/plain": [
       "'k'"
      ]
     },
     "execution_count": 196,
     "metadata": {},
     "output_type": "execute_result"
    }
   ],
   "source": [
    "next(s)"
   ]
  },
  {
   "cell_type": "code",
   "execution_count": 197,
   "id": "f3d087bb",
   "metadata": {},
   "outputs": [
    {
     "data": {
      "text/plain": [
       "'j'"
      ]
     },
     "execution_count": 197,
     "metadata": {},
     "output_type": "execute_result"
    }
   ],
   "source": [
    "next(s)"
   ]
  },
  {
   "cell_type": "code",
   "execution_count": 198,
   "id": "3506eab4",
   "metadata": {},
   "outputs": [
    {
     "data": {
      "text/plain": [
       "'a'"
      ]
     },
     "execution_count": 198,
     "metadata": {},
     "output_type": "execute_result"
    }
   ],
   "source": [
    "next(s)"
   ]
  },
  {
   "cell_type": "code",
   "execution_count": 199,
   "id": "c9439781",
   "metadata": {},
   "outputs": [
    {
     "ename": "StopIteration",
     "evalue": "",
     "output_type": "error",
     "traceback": [
      "\u001b[1;31m---------------------------------------------------------------------------\u001b[0m",
      "\u001b[1;31mStopIteration\u001b[0m                             Traceback (most recent call last)",
      "\u001b[1;32m~\\AppData\\Local\\Temp/ipykernel_10356/1977886155.py\u001b[0m in \u001b[0;36m<module>\u001b[1;34m\u001b[0m\n\u001b[1;32m----> 1\u001b[1;33m \u001b[0mnext\u001b[0m\u001b[1;33m(\u001b[0m\u001b[0ms\u001b[0m\u001b[1;33m)\u001b[0m\u001b[1;33m\u001b[0m\u001b[1;33m\u001b[0m\u001b[0m\n\u001b[0m",
      "\u001b[1;31mStopIteration\u001b[0m: "
     ]
    }
   ],
   "source": [
    "next(s)"
   ]
  },
  {
   "cell_type": "code",
   "execution_count": 209,
   "id": "326baf20",
   "metadata": {},
   "outputs": [],
   "source": [
    "l = [3,4,5]"
   ]
  },
  {
   "cell_type": "code",
   "execution_count": 210,
   "id": "11825d23",
   "metadata": {},
   "outputs": [
    {
     "ename": "TypeError",
     "evalue": "'list' object is not an iterator",
     "output_type": "error",
     "traceback": [
      "\u001b[1;31m---------------------------------------------------------------------------\u001b[0m",
      "\u001b[1;31mTypeError\u001b[0m                                 Traceback (most recent call last)",
      "\u001b[1;32m~\\AppData\\Local\\Temp/ipykernel_10356/2016234150.py\u001b[0m in \u001b[0;36m<module>\u001b[1;34m\u001b[0m\n\u001b[1;32m----> 1\u001b[1;33m \u001b[0mnext\u001b[0m\u001b[1;33m(\u001b[0m\u001b[0ml\u001b[0m\u001b[1;33m)\u001b[0m\u001b[1;33m\u001b[0m\u001b[1;33m\u001b[0m\u001b[0m\n\u001b[0m",
      "\u001b[1;31mTypeError\u001b[0m: 'list' object is not an iterator"
     ]
    }
   ],
   "source": [
    "next(l)"
   ]
  },
  {
   "cell_type": "code",
   "execution_count": 211,
   "id": "89cfe175",
   "metadata": {},
   "outputs": [],
   "source": [
    "l = iter(l)"
   ]
  },
  {
   "cell_type": "code",
   "execution_count": 212,
   "id": "47e8ea9c",
   "metadata": {},
   "outputs": [
    {
     "data": {
      "text/plain": [
       "3"
      ]
     },
     "execution_count": 212,
     "metadata": {},
     "output_type": "execute_result"
    }
   ],
   "source": [
    "next(l)"
   ]
  },
  {
   "cell_type": "code",
   "execution_count": 213,
   "id": "be45f5ea",
   "metadata": {},
   "outputs": [
    {
     "data": {
      "text/plain": [
       "4"
      ]
     },
     "execution_count": 213,
     "metadata": {},
     "output_type": "execute_result"
    }
   ],
   "source": [
    "next(l)"
   ]
  },
  {
   "cell_type": "code",
   "execution_count": 214,
   "id": "e5c2d2f1",
   "metadata": {},
   "outputs": [
    {
     "data": {
      "text/plain": [
       "5"
      ]
     },
     "execution_count": 214,
     "metadata": {},
     "output_type": "execute_result"
    }
   ],
   "source": [
    "next(l)"
   ]
  },
  {
   "cell_type": "code",
   "execution_count": null,
   "id": "7b20633a",
   "metadata": {},
   "outputs": [],
   "source": []
  }
 ],
 "metadata": {
  "kernelspec": {
   "display_name": "Python 3 (ipykernel)",
   "language": "python",
   "name": "python3"
  },
  "language_info": {
   "codemirror_mode": {
    "name": "ipython",
    "version": 3
   },
   "file_extension": ".py",
   "mimetype": "text/x-python",
   "name": "python",
   "nbconvert_exporter": "python",
   "pygments_lexer": "ipython3",
   "version": "3.9.7"
  }
 },
 "nbformat": 4,
 "nbformat_minor": 5
}
